{
 "cells": [
  {
   "cell_type": "code",
   "execution_count": 1,
   "metadata": {
    "scrolled": true
   },
   "outputs": [
    {
     "name": "stderr",
     "output_type": "stream",
     "text": [
      "C:\\Users\\sumith.singh\\AppData\\Local\\Continuum\\Anaconda3\\lib\\site-packages\\sklearn\\cross_validation.py:44: DeprecationWarning: This module was deprecated in version 0.18 in favor of the model_selection module into which all the refactored classes and functions are moved. Also note that the interface of the new CV iterators are different from that of this module. This module will be removed in 0.20.\n",
      "  \"This module will be removed in 0.20.\", DeprecationWarning)\n"
     ]
    },
    {
     "data": {
      "text/plain": [
       "'C:\\\\Users\\\\sumith.singh\\\\A_SUBEX'"
      ]
     },
     "execution_count": 1,
     "metadata": {},
     "output_type": "execute_result"
    }
   ],
   "source": [
    "#https://towardsdatascience.com/building-a-logistic-regression-in-python-step-by-step-becd4d56c9c8\n",
    "import numpy as np\n",
    "import pandas as pd\n",
    "import seaborn as sns\n",
    "import matplotlib as mpl\n",
    "import matplotlib.pyplot as plt\n",
    "plt.rc(\"font\",size=14)\n",
    "from sklearn import preprocessing\n",
    "from sklearn import datasets\n",
    "from sklearn.linear_model import LogisticRegression\n",
    "from sklearn.cross_validation import train_test_split\n",
    "sns.set(style=\"white\")\n",
    "sns.set(style=\"whitegrid\", color_codes=True)\n",
    "import os\n",
    "#import nxviz as nv\n",
    "os.getcwd()"
   ]
  },
  {
   "cell_type": "markdown",
   "metadata": {},
   "source": [
    "# Importing and Analyzing the data"
   ]
  },
  {
   "cell_type": "code",
   "execution_count": 2,
   "metadata": {
    "collapsed": true
   },
   "outputs": [],
   "source": [
    "col_names = ['Node', 'Behavior', 'Node', 'Day', 'Flag', 'Nbrs', 'Num_Nbrs',\n",
    "       'Nbrs_Dffsed', 'Num_Nbrs_Dffsd', 'high_nbrs', 'high_nbr_diff',\n",
    "       'Deg_Ctrlty', 'Probability', 'ratio', 'tcudorp', 'knar', 'knar_norm']"
   ]
  },
  {
   "cell_type": "code",
   "execution_count": 3,
   "metadata": {},
   "outputs": [
    {
     "name": "stderr",
     "output_type": "stream",
     "text": [
      "C:\\Users\\sumith.singh\\AppData\\Local\\Continuum\\Anaconda3\\lib\\site-packages\\pandas\\io\\parsers.py:709: UserWarning: Duplicate names specified. This will raise an error in the future.\n",
      "  return _read(filepath_or_buffer, kwds)\n",
      "C:\\Users\\sumith.singh\\AppData\\Local\\Continuum\\Anaconda3\\lib\\site-packages\\IPython\\core\\interactiveshell.py:2717: DtypeWarning: Columns (2) have mixed types. Specify dtype option on import or set low_memory=False.\n",
      "  interactivity=interactivity, compiler=compiler, result=result)\n"
     ]
    }
   ],
   "source": [
    "df = pd.read_csv('df2B_Diff_Algo2_SKA.csv',header=0, names = col_names)"
   ]
  },
  {
   "cell_type": "code",
   "execution_count": 4,
   "metadata": {},
   "outputs": [
    {
     "data": {
      "text/html": [
       "<div>\n",
       "<style scoped>\n",
       "    .dataframe tbody tr th:only-of-type {\n",
       "        vertical-align: middle;\n",
       "    }\n",
       "\n",
       "    .dataframe tbody tr th {\n",
       "        vertical-align: top;\n",
       "    }\n",
       "\n",
       "    .dataframe thead th {\n",
       "        text-align: right;\n",
       "    }\n",
       "</style>\n",
       "<table border=\"1\" class=\"dataframe\">\n",
       "  <thead>\n",
       "    <tr style=\"text-align: right;\">\n",
       "      <th></th>\n",
       "      <th>Node</th>\n",
       "      <th>Behavior</th>\n",
       "      <th>Node.1</th>\n",
       "      <th>Day</th>\n",
       "      <th>Flag</th>\n",
       "      <th>Nbrs</th>\n",
       "      <th>Num_Nbrs</th>\n",
       "      <th>Nbrs_Dffsed</th>\n",
       "      <th>Num_Nbrs_Dffsd</th>\n",
       "      <th>high_nbrs</th>\n",
       "      <th>high_nbr_diff</th>\n",
       "      <th>Deg_Ctrlty</th>\n",
       "      <th>Probability</th>\n",
       "      <th>ratio</th>\n",
       "      <th>tcudorp</th>\n",
       "      <th>knar</th>\n",
       "      <th>knar_norm</th>\n",
       "    </tr>\n",
       "  </thead>\n",
       "  <tbody>\n",
       "    <tr>\n",
       "      <th>565835</th>\n",
       "      <td>565835</td>\n",
       "      <td>B</td>\n",
       "      <td>254773803611</td>\n",
       "      <td>1</td>\n",
       "      <td>Diffused</td>\n",
       "      <td>['254770704641', '254771466819']</td>\n",
       "      <td>2</td>\n",
       "      <td>[]</td>\n",
       "      <td>0</td>\n",
       "      <td>['254771466819']</td>\n",
       "      <td>[]</td>\n",
       "      <td>1.652203e-06</td>\n",
       "      <td>0.915794</td>\n",
       "      <td>0.000000</td>\n",
       "      <td>0.000000e+00</td>\n",
       "      <td>NaN</td>\n",
       "      <td>NaN</td>\n",
       "    </tr>\n",
       "    <tr>\n",
       "      <th>220869</th>\n",
       "      <td>220869</td>\n",
       "      <td>B</td>\n",
       "      <td>254777103397</td>\n",
       "      <td>100</td>\n",
       "      <td>Not Diffused</td>\n",
       "      <td>['254770575056', '254771601117', '254777315558...</td>\n",
       "      <td>7</td>\n",
       "      <td>['254771319334']</td>\n",
       "      <td>1</td>\n",
       "      <td>['254771319334']</td>\n",
       "      <td>['254771319334']</td>\n",
       "      <td>5.782711e-06</td>\n",
       "      <td>0.465316</td>\n",
       "      <td>0.142857</td>\n",
       "      <td>3.843985e-07</td>\n",
       "      <td>819980.0</td>\n",
       "      <td>0.847065</td>\n",
       "    </tr>\n",
       "    <tr>\n",
       "      <th>995232</th>\n",
       "      <td>995232</td>\n",
       "      <td>B</td>\n",
       "      <td>254775877101</td>\n",
       "      <td>100</td>\n",
       "      <td>Not Diffused</td>\n",
       "      <td>['254773940488', '254773733882']</td>\n",
       "      <td>2</td>\n",
       "      <td>[]</td>\n",
       "      <td>0</td>\n",
       "      <td>['254773733882']</td>\n",
       "      <td>[]</td>\n",
       "      <td>1.652203e-06</td>\n",
       "      <td>0.747567</td>\n",
       "      <td>0.000000</td>\n",
       "      <td>0.000000e+00</td>\n",
       "      <td>369499.0</td>\n",
       "      <td>0.381704</td>\n",
       "    </tr>\n",
       "    <tr>\n",
       "      <th>618715</th>\n",
       "      <td>618715</td>\n",
       "      <td>B</td>\n",
       "      <td>254771843616</td>\n",
       "      <td>100</td>\n",
       "      <td>Not Diffused</td>\n",
       "      <td>['254772431447']</td>\n",
       "      <td>1</td>\n",
       "      <td>['254772431447']</td>\n",
       "      <td>1</td>\n",
       "      <td>['254772431447']</td>\n",
       "      <td>['254772431447']</td>\n",
       "      <td>8.261015e-07</td>\n",
       "      <td>0.631069</td>\n",
       "      <td>1.000000</td>\n",
       "      <td>5.213267e-07</td>\n",
       "      <td>858879.0</td>\n",
       "      <td>0.887249</td>\n",
       "    </tr>\n",
       "    <tr>\n",
       "      <th>983663</th>\n",
       "      <td>983663</td>\n",
       "      <td>B</td>\n",
       "      <td>254774664622</td>\n",
       "      <td>100</td>\n",
       "      <td>Not Diffused</td>\n",
       "      <td>['254774313179']</td>\n",
       "      <td>1</td>\n",
       "      <td>[]</td>\n",
       "      <td>0</td>\n",
       "      <td>['254774313179']</td>\n",
       "      <td>[]</td>\n",
       "      <td>8.261015e-07</td>\n",
       "      <td>0.704993</td>\n",
       "      <td>0.000000</td>\n",
       "      <td>0.000000e+00</td>\n",
       "      <td>369499.0</td>\n",
       "      <td>0.381704</td>\n",
       "    </tr>\n",
       "  </tbody>\n",
       "</table>\n",
       "</div>"
      ],
      "text/plain": [
       "          Node Behavior        Node.1  Day          Flag  \\\n",
       "565835  565835        B  254773803611    1      Diffused   \n",
       "220869  220869        B  254777103397  100  Not Diffused   \n",
       "995232  995232        B  254775877101  100  Not Diffused   \n",
       "618715  618715        B  254771843616  100  Not Diffused   \n",
       "983663  983663        B  254774664622  100  Not Diffused   \n",
       "\n",
       "                                                     Nbrs  Num_Nbrs  \\\n",
       "565835                   ['254770704641', '254771466819']         2   \n",
       "220869  ['254770575056', '254771601117', '254777315558...         7   \n",
       "995232                   ['254773940488', '254773733882']         2   \n",
       "618715                                   ['254772431447']         1   \n",
       "983663                                   ['254774313179']         1   \n",
       "\n",
       "             Nbrs_Dffsed  Num_Nbrs_Dffsd         high_nbrs     high_nbr_diff  \\\n",
       "565835                []               0  ['254771466819']                []   \n",
       "220869  ['254771319334']               1  ['254771319334']  ['254771319334']   \n",
       "995232                []               0  ['254773733882']                []   \n",
       "618715  ['254772431447']               1  ['254772431447']  ['254772431447']   \n",
       "983663                []               0  ['254774313179']                []   \n",
       "\n",
       "          Deg_Ctrlty  Probability     ratio       tcudorp      knar  knar_norm  \n",
       "565835  1.652203e-06     0.915794  0.000000  0.000000e+00       NaN        NaN  \n",
       "220869  5.782711e-06     0.465316  0.142857  3.843985e-07  819980.0   0.847065  \n",
       "995232  1.652203e-06     0.747567  0.000000  0.000000e+00  369499.0   0.381704  \n",
       "618715  8.261015e-07     0.631069  1.000000  5.213267e-07  858879.0   0.887249  \n",
       "983663  8.261015e-07     0.704993  0.000000  0.000000e+00  369499.0   0.381704  "
      ]
     },
     "execution_count": 4,
     "metadata": {},
     "output_type": "execute_result"
    }
   ],
   "source": [
    "df.sample(5)"
   ]
  },
  {
   "cell_type": "code",
   "execution_count": 5,
   "metadata": {},
   "outputs": [
    {
     "data": {
      "text/plain": [
       "Index(['Node', 'Behavior', 'Node.1', 'Day', 'Flag', 'Nbrs', 'Num_Nbrs',\n",
       "       'Nbrs_Dffsed', 'Num_Nbrs_Dffsd', 'high_nbrs', 'high_nbr_diff',\n",
       "       'Deg_Ctrlty', 'Probability', 'ratio', 'tcudorp', 'knar', 'knar_norm'],\n",
       "      dtype='object')"
      ]
     },
     "execution_count": 5,
     "metadata": {},
     "output_type": "execute_result"
    }
   ],
   "source": [
    "df.columns"
   ]
  },
  {
   "cell_type": "code",
   "execution_count": 6,
   "metadata": {},
   "outputs": [
    {
     "data": {
      "text/plain": [
       "Counter({'Diffused': 121498, 'Not Diffused': 968025, 'Resistant': 120983})"
      ]
     },
     "execution_count": 6,
     "metadata": {},
     "output_type": "execute_result"
    }
   ],
   "source": [
    "from collections import Counter\n",
    "Counter(df['Flag'])"
   ]
  },
  {
   "cell_type": "code",
   "execution_count": 7,
   "metadata": {},
   "outputs": [
    {
     "data": {
      "text/plain": [
       "Not Diffused    968025\n",
       "Diffused        121498\n",
       "Resistant       120983\n",
       "Name: Flag, dtype: int64"
      ]
     },
     "execution_count": 7,
     "metadata": {},
     "output_type": "execute_result"
    }
   ],
   "source": [
    "df['Flag'].value_counts()"
   ]
  },
  {
   "cell_type": "code",
   "execution_count": 8,
   "metadata": {},
   "outputs": [
    {
     "name": "stderr",
     "output_type": "stream",
     "text": [
      "C:\\Users\\sumith.singh\\AppData\\Local\\Continuum\\Anaconda3\\lib\\site-packages\\seaborn\\categorical.py:1428: FutureWarning: remove_na is deprecated and is a private function. Do not use.\n",
      "  stat_data = remove_na(group_data)\n"
     ]
    },
    {
     "data": {
      "image/png": "[encoded data removed]",
      "text/plain": [
       "<matplotlib.figure.Figure at 0x1eebed31cc0>"
      ]
     },
     "metadata": {},
     "output_type": "display_data"
    }
   ],
   "source": [
    "sns.countplot(x='Flag', data=df, palette='hls')\n",
    "plt.show()\n",
    "plt.savefig('count_plot')"
   ]
  },
  {
   "cell_type": "code",
   "execution_count": 9,
   "metadata": {},
   "outputs": [
    {
     "data": {
      "text/plain": [
       "array(['Not Diffused', 'Diffused', 'Resistant'], dtype=object)"
      ]
     },
     "execution_count": 9,
     "metadata": {},
     "output_type": "execute_result"
    }
   ],
   "source": [
    "#df.dtypes\n",
    "df['Flag'].unique()"
   ]
  },
  {
   "cell_type": "markdown",
   "metadata": {},
   "source": [
    "# Creating the subset DataFrame"
   ]
  },
  {
   "cell_type": "code",
   "execution_count": 10,
   "metadata": {
    "scrolled": false
   },
   "outputs": [
    {
     "data": {
      "text/html": [
       "<div>\n",
       "<style scoped>\n",
       "    .dataframe tbody tr th:only-of-type {\n",
       "        vertical-align: middle;\n",
       "    }\n",
       "\n",
       "    .dataframe tbody tr th {\n",
       "        vertical-align: top;\n",
       "    }\n",
       "\n",
       "    .dataframe thead th {\n",
       "        text-align: right;\n",
       "    }\n",
       "</style>\n",
       "<table border=\"1\" class=\"dataframe\">\n",
       "  <thead>\n",
       "    <tr style=\"text-align: right;\">\n",
       "      <th></th>\n",
       "      <th>Day</th>\n",
       "      <th>Num_Nbrs</th>\n",
       "      <th>Num_Nbrs_Dffsd</th>\n",
       "      <th>Deg_Ctrlty</th>\n",
       "      <th>ratio</th>\n",
       "      <th>tcudorp</th>\n",
       "      <th>Flag</th>\n",
       "    </tr>\n",
       "  </thead>\n",
       "  <tbody>\n",
       "    <tr>\n",
       "      <th>488156</th>\n",
       "      <td>100</td>\n",
       "      <td>7</td>\n",
       "      <td>0</td>\n",
       "      <td>5.782711e-06</td>\n",
       "      <td>0.0</td>\n",
       "      <td>0.000000e+00</td>\n",
       "      <td>Not Diffused</td>\n",
       "    </tr>\n",
       "    <tr>\n",
       "      <th>1060502</th>\n",
       "      <td>100</td>\n",
       "      <td>1</td>\n",
       "      <td>0</td>\n",
       "      <td>8.261015e-07</td>\n",
       "      <td>0.0</td>\n",
       "      <td>0.000000e+00</td>\n",
       "      <td>Not Diffused</td>\n",
       "    </tr>\n",
       "    <tr>\n",
       "      <th>659387</th>\n",
       "      <td>100</td>\n",
       "      <td>1</td>\n",
       "      <td>1</td>\n",
       "      <td>8.261015e-07</td>\n",
       "      <td>1.0</td>\n",
       "      <td>4.134682e-07</td>\n",
       "      <td>Not Diffused</td>\n",
       "    </tr>\n",
       "    <tr>\n",
       "      <th>863337</th>\n",
       "      <td>100</td>\n",
       "      <td>1</td>\n",
       "      <td>0</td>\n",
       "      <td>8.261015e-07</td>\n",
       "      <td>0.0</td>\n",
       "      <td>0.000000e+00</td>\n",
       "      <td>Not Diffused</td>\n",
       "    </tr>\n",
       "    <tr>\n",
       "      <th>1195235</th>\n",
       "      <td>100</td>\n",
       "      <td>1</td>\n",
       "      <td>0</td>\n",
       "      <td>8.261015e-07</td>\n",
       "      <td>0.0</td>\n",
       "      <td>0.000000e+00</td>\n",
       "      <td>Not Diffused</td>\n",
       "    </tr>\n",
       "  </tbody>\n",
       "</table>\n",
       "</div>"
      ],
      "text/plain": [
       "         Day  Num_Nbrs  Num_Nbrs_Dffsd    Deg_Ctrlty  ratio       tcudorp  \\\n",
       "488156   100         7               0  5.782711e-06    0.0  0.000000e+00   \n",
       "1060502  100         1               0  8.261015e-07    0.0  0.000000e+00   \n",
       "659387   100         1               1  8.261015e-07    1.0  4.134682e-07   \n",
       "863337   100         1               0  8.261015e-07    0.0  0.000000e+00   \n",
       "1195235  100         1               0  8.261015e-07    0.0  0.000000e+00   \n",
       "\n",
       "                 Flag  \n",
       "488156   Not Diffused  \n",
       "1060502  Not Diffused  \n",
       "659387   Not Diffused  \n",
       "863337   Not Diffused  \n",
       "1195235  Not Diffused  "
      ]
     },
     "execution_count": 10,
     "metadata": {},
     "output_type": "execute_result"
    }
   ],
   "source": [
    "dfLogR = df[['Day','Num_Nbrs','Num_Nbrs_Dffsd','Deg_Ctrlty','ratio','tcudorp','Flag']].copy()\n",
    "dfLogR.sample(5)"
   ]
  },
  {
   "cell_type": "code",
   "execution_count": 11,
   "metadata": {},
   "outputs": [
    {
     "data": {
      "text/plain": [
       "array(['Not Diffused', 'Diffused', 'Resistant'], dtype=object)"
      ]
     },
     "execution_count": 11,
     "metadata": {},
     "output_type": "execute_result"
    }
   ],
   "source": [
    "dfLogR.Flag.unique()"
   ]
  },
  {
   "cell_type": "code",
   "execution_count": 12,
   "metadata": {
    "collapsed": true
   },
   "outputs": [],
   "source": [
    "def LogR(df):\n",
    "    if df['Flag'] == 'Diffused':\n",
    "        return 1\n",
    "    elif df['Flag'] == 'Not Diffused':\n",
    "        return 0\n",
    "    else:\n",
    "        return 0"
   ]
  },
  {
   "cell_type": "code",
   "execution_count": 13,
   "metadata": {},
   "outputs": [
    {
     "data": {
      "text/html": [
       "<div>\n",
       "<style scoped>\n",
       "    .dataframe tbody tr th:only-of-type {\n",
       "        vertical-align: middle;\n",
       "    }\n",
       "\n",
       "    .dataframe tbody tr th {\n",
       "        vertical-align: top;\n",
       "    }\n",
       "\n",
       "    .dataframe thead th {\n",
       "        text-align: right;\n",
       "    }\n",
       "</style>\n",
       "<table border=\"1\" class=\"dataframe\">\n",
       "  <thead>\n",
       "    <tr style=\"text-align: right;\">\n",
       "      <th></th>\n",
       "      <th>Day</th>\n",
       "      <th>Num_Nbrs</th>\n",
       "      <th>Num_Nbrs_Dffsd</th>\n",
       "      <th>Deg_Ctrlty</th>\n",
       "      <th>ratio</th>\n",
       "      <th>tcudorp</th>\n",
       "      <th>Flag</th>\n",
       "      <th>y</th>\n",
       "    </tr>\n",
       "  </thead>\n",
       "  <tbody>\n",
       "    <tr>\n",
       "      <th>534346</th>\n",
       "      <td>100</td>\n",
       "      <td>7</td>\n",
       "      <td>0</td>\n",
       "      <td>0.000006</td>\n",
       "      <td>0.000000</td>\n",
       "      <td>0.000000e+00</td>\n",
       "      <td>Not Diffused</td>\n",
       "      <td>0</td>\n",
       "    </tr>\n",
       "    <tr>\n",
       "      <th>809602</th>\n",
       "      <td>1</td>\n",
       "      <td>9</td>\n",
       "      <td>2</td>\n",
       "      <td>0.000007</td>\n",
       "      <td>0.222222</td>\n",
       "      <td>1.554363e-06</td>\n",
       "      <td>Diffused</td>\n",
       "      <td>1</td>\n",
       "    </tr>\n",
       "    <tr>\n",
       "      <th>500204</th>\n",
       "      <td>100</td>\n",
       "      <td>7</td>\n",
       "      <td>1</td>\n",
       "      <td>0.000006</td>\n",
       "      <td>0.142857</td>\n",
       "      <td>2.352756e-07</td>\n",
       "      <td>Not Diffused</td>\n",
       "      <td>0</td>\n",
       "    </tr>\n",
       "    <tr>\n",
       "      <th>475474</th>\n",
       "      <td>100</td>\n",
       "      <td>2</td>\n",
       "      <td>0</td>\n",
       "      <td>0.000002</td>\n",
       "      <td>0.000000</td>\n",
       "      <td>0.000000e+00</td>\n",
       "      <td>Not Diffused</td>\n",
       "      <td>0</td>\n",
       "    </tr>\n",
       "    <tr>\n",
       "      <th>638641</th>\n",
       "      <td>100</td>\n",
       "      <td>2</td>\n",
       "      <td>0</td>\n",
       "      <td>0.000002</td>\n",
       "      <td>0.000000</td>\n",
       "      <td>0.000000e+00</td>\n",
       "      <td>Not Diffused</td>\n",
       "      <td>0</td>\n",
       "    </tr>\n",
       "  </tbody>\n",
       "</table>\n",
       "</div>"
      ],
      "text/plain": [
       "        Day  Num_Nbrs  Num_Nbrs_Dffsd  Deg_Ctrlty     ratio       tcudorp  \\\n",
       "534346  100         7               0    0.000006  0.000000  0.000000e+00   \n",
       "809602    1         9               2    0.000007  0.222222  1.554363e-06   \n",
       "500204  100         7               1    0.000006  0.142857  2.352756e-07   \n",
       "475474  100         2               0    0.000002  0.000000  0.000000e+00   \n",
       "638641  100         2               0    0.000002  0.000000  0.000000e+00   \n",
       "\n",
       "                Flag  y  \n",
       "534346  Not Diffused  0  \n",
       "809602      Diffused  1  \n",
       "500204  Not Diffused  0  \n",
       "475474  Not Diffused  0  \n",
       "638641  Not Diffused  0  "
      ]
     },
     "execution_count": 13,
     "metadata": {},
     "output_type": "execute_result"
    }
   ],
   "source": [
    "dfLogR['y'] = dfLogR.apply(LogR, axis=1)\n",
    "dfLogR.sample(5)"
   ]
  },
  {
   "cell_type": "code",
   "execution_count": 14,
   "metadata": {},
   "outputs": [
    {
     "data": {
      "text/plain": [
       "Day                 int64\n",
       "Num_Nbrs            int64\n",
       "Num_Nbrs_Dffsd      int64\n",
       "Deg_Ctrlty        float64\n",
       "ratio             float64\n",
       "tcudorp           float64\n",
       "Flag               object\n",
       "y                   int64\n",
       "dtype: object"
      ]
     },
     "execution_count": 14,
     "metadata": {},
     "output_type": "execute_result"
    }
   ],
   "source": [
    "dfLogR.dtypes"
   ]
  },
  {
   "cell_type": "code",
   "execution_count": 15,
   "metadata": {
    "scrolled": true
   },
   "outputs": [
    {
     "data": {
      "text/plain": [
       "Index(['Day', 'Num_Nbrs', 'Num_Nbrs_Dffsd', 'Deg_Ctrlty', 'ratio', 'tcudorp',\n",
       "       'Flag', 'y'],\n",
       "      dtype='object')"
      ]
     },
     "execution_count": 15,
     "metadata": {},
     "output_type": "execute_result"
    }
   ],
   "source": [
    "dfLogR.columns"
   ]
  },
  {
   "cell_type": "code",
   "execution_count": 16,
   "metadata": {},
   "outputs": [
    {
     "data": {
      "text/html": [
       "<div>\n",
       "<style scoped>\n",
       "    .dataframe tbody tr th:only-of-type {\n",
       "        vertical-align: middle;\n",
       "    }\n",
       "\n",
       "    .dataframe tbody tr th {\n",
       "        vertical-align: top;\n",
       "    }\n",
       "\n",
       "    .dataframe thead th {\n",
       "        text-align: right;\n",
       "    }\n",
       "</style>\n",
       "<table border=\"1\" class=\"dataframe\">\n",
       "  <thead>\n",
       "    <tr style=\"text-align: right;\">\n",
       "      <th></th>\n",
       "      <th>Num_Nbrs</th>\n",
       "      <th>Num_Nbrs_Dffsd</th>\n",
       "      <th>Deg_Ctrlty</th>\n",
       "      <th>ratio</th>\n",
       "      <th>tcudorp</th>\n",
       "      <th>y</th>\n",
       "    </tr>\n",
       "    <tr>\n",
       "      <th>Day</th>\n",
       "      <th></th>\n",
       "      <th></th>\n",
       "      <th></th>\n",
       "      <th></th>\n",
       "      <th></th>\n",
       "      <th></th>\n",
       "    </tr>\n",
       "  </thead>\n",
       "  <tbody>\n",
       "    <tr>\n",
       "      <th>1</th>\n",
       "      <td>3.714473</td>\n",
       "      <td>0.380138</td>\n",
       "      <td>0.000003</td>\n",
       "      <td>0.10237</td>\n",
       "      <td>3.181637e-07</td>\n",
       "      <td>1.0</td>\n",
       "    </tr>\n",
       "    <tr>\n",
       "      <th>100</th>\n",
       "      <td>3.745621</td>\n",
       "      <td>0.372004</td>\n",
       "      <td>0.000003</td>\n",
       "      <td>0.09953</td>\n",
       "      <td>1.467859e-07</td>\n",
       "      <td>0.0</td>\n",
       "    </tr>\n",
       "  </tbody>\n",
       "</table>\n",
       "</div>"
      ],
      "text/plain": [
       "     Num_Nbrs  Num_Nbrs_Dffsd  Deg_Ctrlty    ratio       tcudorp    y\n",
       "Day                                                                  \n",
       "1    3.714473        0.380138    0.000003  0.10237  3.181637e-07  1.0\n",
       "100  3.745621        0.372004    0.000003  0.09953  1.467859e-07  0.0"
      ]
     },
     "execution_count": 16,
     "metadata": {},
     "output_type": "execute_result"
    }
   ],
   "source": [
    "dfLogR.groupby('Day').mean()"
   ]
  },
  {
   "cell_type": "code",
   "execution_count": 17,
   "metadata": {},
   "outputs": [
    {
     "data": {
      "text/plain": [
       "100    1089008\n",
       "1       121498\n",
       "Name: Day, dtype: int64"
      ]
     },
     "execution_count": 17,
     "metadata": {},
     "output_type": "execute_result"
    }
   ],
   "source": [
    "dfLogR['Day'].value_counts()"
   ]
  },
  {
   "cell_type": "code",
   "execution_count": 18,
   "metadata": {},
   "outputs": [
    {
     "data": {
      "image/png": "[encoded data removed]",
      "text/plain": [
       "<matplotlib.figure.Figure at 0x1eeca498978>"
      ]
     },
     "metadata": {},
     "output_type": "display_data"
    }
   ],
   "source": [
    "dfLogR.Day.hist()\n",
    "plt.show()"
   ]
  },
  {
   "cell_type": "code",
   "execution_count": 19,
   "metadata": {},
   "outputs": [],
   "source": [
    "#This takes lot of time so commented\n",
    "#sns.pairplot(dfLogR)\n",
    "#plt.show()"
   ]
  },
  {
   "cell_type": "code",
   "execution_count": 20,
   "metadata": {
    "collapsed": true
   },
   "outputs": [],
   "source": [
    "#Assign feature columns as list:feature_cols\n",
    "feature_cols = ['Num_Nbrs','Num_Nbrs_Dffsd','Deg_Ctrlty','ratio','tcudorp']\n",
    "\n",
    "# Assign to X  a subset of the data including only feature names\n",
    "X = dfLogR[feature_cols]"
   ]
  },
  {
   "cell_type": "code",
   "execution_count": null,
   "metadata": {
    "collapsed": true
   },
   "outputs": [],
   "source": []
  },
  {
   "cell_type": "code",
   "execution_count": null,
   "metadata": {
    "collapsed": true
   },
   "outputs": [],
   "source": []
  },
  {
   "cell_type": "code",
   "execution_count": 21,
   "metadata": {
    "collapsed": true
   },
   "outputs": [],
   "source": [
    "#Assign to y the response variable as Pandas series\n",
    "y = dfLogR['y']"
   ]
  },
  {
   "cell_type": "code",
   "execution_count": 22,
   "metadata": {},
   "outputs": [
    {
     "data": {
      "text/html": [
       "<div>\n",
       "<style scoped>\n",
       "    .dataframe tbody tr th:only-of-type {\n",
       "        vertical-align: middle;\n",
       "    }\n",
       "\n",
       "    .dataframe tbody tr th {\n",
       "        vertical-align: top;\n",
       "    }\n",
       "\n",
       "    .dataframe thead th {\n",
       "        text-align: right;\n",
       "    }\n",
       "</style>\n",
       "<table border=\"1\" class=\"dataframe\">\n",
       "  <thead>\n",
       "    <tr style=\"text-align: right;\">\n",
       "      <th></th>\n",
       "      <th>Num_Nbrs</th>\n",
       "      <th>Num_Nbrs_Dffsd</th>\n",
       "      <th>Deg_Ctrlty</th>\n",
       "      <th>ratio</th>\n",
       "      <th>tcudorp</th>\n",
       "    </tr>\n",
       "  </thead>\n",
       "  <tbody>\n",
       "    <tr>\n",
       "      <th>165912</th>\n",
       "      <td>1</td>\n",
       "      <td>0</td>\n",
       "      <td>8.261015e-07</td>\n",
       "      <td>0.0</td>\n",
       "      <td>0.0</td>\n",
       "    </tr>\n",
       "    <tr>\n",
       "      <th>1108992</th>\n",
       "      <td>1</td>\n",
       "      <td>0</td>\n",
       "      <td>8.261015e-07</td>\n",
       "      <td>0.0</td>\n",
       "      <td>0.0</td>\n",
       "    </tr>\n",
       "    <tr>\n",
       "      <th>1151828</th>\n",
       "      <td>1</td>\n",
       "      <td>0</td>\n",
       "      <td>8.261015e-07</td>\n",
       "      <td>0.0</td>\n",
       "      <td>0.0</td>\n",
       "    </tr>\n",
       "    <tr>\n",
       "      <th>957591</th>\n",
       "      <td>1</td>\n",
       "      <td>0</td>\n",
       "      <td>8.261015e-07</td>\n",
       "      <td>0.0</td>\n",
       "      <td>0.0</td>\n",
       "    </tr>\n",
       "    <tr>\n",
       "      <th>1029544</th>\n",
       "      <td>1</td>\n",
       "      <td>0</td>\n",
       "      <td>8.261015e-07</td>\n",
       "      <td>0.0</td>\n",
       "      <td>0.0</td>\n",
       "    </tr>\n",
       "  </tbody>\n",
       "</table>\n",
       "</div>"
      ],
      "text/plain": [
       "         Num_Nbrs  Num_Nbrs_Dffsd    Deg_Ctrlty  ratio  tcudorp\n",
       "165912          1               0  8.261015e-07    0.0      0.0\n",
       "1108992         1               0  8.261015e-07    0.0      0.0\n",
       "1151828         1               0  8.261015e-07    0.0      0.0\n",
       "957591          1               0  8.261015e-07    0.0      0.0\n",
       "1029544         1               0  8.261015e-07    0.0      0.0"
      ]
     },
     "execution_count": 22,
     "metadata": {},
     "output_type": "execute_result"
    }
   ],
   "source": [
    "X.sample(5)"
   ]
  },
  {
   "cell_type": "code",
   "execution_count": 23,
   "metadata": {},
   "outputs": [
    {
     "data": {
      "image/png": "[encoded data removed]",
      "text/plain": [
       "<matplotlib.figure.Figure at 0x1eebed31e48>"
      ]
     },
     "metadata": {},
     "output_type": "display_data"
    }
   ],
   "source": [
    "y.hist()\n",
    "plt.show()"
   ]
  },
  {
   "cell_type": "code",
   "execution_count": null,
   "metadata": {},
   "outputs": [],
   "source": [
    "# Import SK Learn train test split\n",
    "from sklearn.cross_validation import train_test_split\n",
    "# Assign variables to capture train test split output \n",
    "X_train, X_test, y_train, y_test = train_test_split(X,y)"
   ]
  },
  {
   "cell_type": "markdown",
   "metadata": {},
   "source": [
    "# Implementing the model"
   ]
  },
  {
   "cell_type": "code",
   "execution_count": 24,
   "metadata": {},
   "outputs": [
    {
     "name": "stderr",
     "output_type": "stream",
     "text": [
      "C:\\Users\\sumith.singh\\AppData\\Local\\Continuum\\Anaconda3\\lib\\site-packages\\statsmodels\\compat\\pandas.py:56: FutureWarning: The pandas.core.datetools module is deprecated and will be removed in a future version. Please use the pandas.tseries module instead.\n",
      "  from pandas.core import datetools\n",
      "C:\\Users\\sumith.singh\\AppData\\Local\\Continuum\\Anaconda3\\lib\\site-packages\\statsmodels\\discrete\\discrete_model.py:1214: RuntimeWarning: overflow encountered in exp\n",
      "  return 1/(1+np.exp(-X))\n"
     ]
    },
    {
     "name": "stdout",
     "output_type": "stream",
     "text": [
      "Warning: Maximum number of iterations has been exceeded.\n",
      "         Current function value: 0.466182\n",
      "         Iterations: 35\n"
     ]
    },
    {
     "name": "stderr",
     "output_type": "stream",
     "text": [
      "C:\\Users\\sumith.singh\\AppData\\Local\\Continuum\\Anaconda3\\lib\\site-packages\\statsmodels\\base\\model.py:496: ConvergenceWarning: Maximum Likelihood optimization failed to converge. Check mle_retvals\n",
      "  \"Check mle_retvals\", ConvergenceWarning)\n"
     ]
    },
    {
     "name": "stdout",
     "output_type": "stream",
     "text": [
      "                           Logit Regression Results                           \n",
      "==============================================================================\n",
      "Dep. Variable:                      y   No. Observations:              1210506\n",
      "Model:                          Logit   Df Residuals:                  1210501\n",
      "Method:                           MLE   Df Model:                            4\n",
      "Date:                Thu, 19 Jul 2018   Pseudo R-squ.:                 -0.4305\n",
      "Time:                        16:06:23   Log-Likelihood:            -5.6432e+05\n",
      "converged:                      False   LL-Null:                   -3.9450e+05\n",
      "                                        LLR p-value:                     1.000\n",
      "==================================================================================\n",
      "                     coef    std err          z      P>|z|      [0.025      0.975]\n",
      "----------------------------------------------------------------------------------\n",
      "Num_Nbrs          -0.6444      0.025    -25.736      0.000      -0.693      -0.595\n",
      "Num_Nbrs_Dffsd     2.4757      0.011    225.806      0.000       2.454       2.497\n",
      "Deg_Ctrlty       165.6845      3e+04      0.006      0.996   -5.87e+04    5.91e+04\n",
      "ratio             -5.6598      0.025   -229.843      0.000      -5.708      -5.612\n",
      "tcudorp        -5089.1063   1.39e+04     -0.366      0.715   -3.24e+04    2.22e+04\n",
      "==================================================================================\n"
     ]
    }
   ],
   "source": [
    "import statsmodels.api as sm\n",
    "logit_model = sm.Logit(y,X)\n",
    "result = logit_model.fit()\n",
    "print(result.summary())\n",
    "# The p-value for the variables should be smaller than 0.05 (if we are talking of 5% confidence interval).\n",
    "# Only then the variable is significant to the model"
   ]
  },
  {
   "cell_type": "markdown",
   "metadata": {},
   "source": [
    "# Logistic Regression Model Fitting"
   ]
  },
  {
   "cell_type": "code",
   "execution_count": 25,
   "metadata": {},
   "outputs": [
    {
     "data": {
      "text/plain": [
       "LogisticRegression(C=1.0, class_weight=None, dual=False, fit_intercept=True,\n",
       "          intercept_scaling=1, max_iter=100, multi_class='ovr', n_jobs=1,\n",
       "          penalty='l2', random_state=None, solver='liblinear', tol=0.0001,\n",
       "          verbose=0, warm_start=False)"
      ]
     },
     "execution_count": 25,
     "metadata": {},
     "output_type": "execute_result"
    }
   ],
   "source": [
    "from sklearn.cross_validation import train_test_split\n",
    "X_train, X_test, y_train, y_test = train_test_split(X,y,test_size=0.3, random_state=0)\n",
    "from sklearn import metrics\n",
    "logreg = LogisticRegression()\n",
    "logreg.fit(X_train, y_train)"
   ]
  },
  {
   "cell_type": "markdown",
   "metadata": {},
   "source": [
    "# Cross Validation"
   ]
  },
  {
   "cell_type": "code",
   "execution_count": 26,
   "metadata": {
    "collapsed": true
   },
   "outputs": [],
   "source": [
    "#Cross Validation attempts to avoid overfitting while still producing a prediction for each observation dataset.\n",
    "# We are using 10-fold Cross-Validation to train our Logistic Regression model."
   ]
  },
  {
   "cell_type": "code",
   "execution_count": 27,
   "metadata": {},
   "outputs": [
    {
     "name": "stdout",
     "output_type": "stream",
     "text": [
      "10-fold cross validation average accuracy: 0.900\n"
     ]
    }
   ],
   "source": [
    "from sklearn import model_selection\n",
    "from sklearn.model_selection import cross_val_score\n",
    "kfold = model_selection.KFold(n_splits = 10, random_state = 7)\n",
    "modelCV = LogisticRegression()\n",
    "scoring = 'accuracy'\n",
    "results = model_selection.cross_val_score(modelCV, X_train, y_train,\n",
    "                                         cv = kfold, scoring=scoring)\n",
    "print(\"10-fold cross validation average accuracy: %.3f\" %\n",
    "     (results.mean()))"
   ]
  },
  {
   "cell_type": "code",
   "execution_count": 28,
   "metadata": {
    "collapsed": true
   },
   "outputs": [],
   "source": [
    "#If the average accuracy remains very close to the Logistic Regression model accuracy,\n",
    "#Then, we can conclude that our model generalizes well."
   ]
  },
  {
   "cell_type": "markdown",
   "metadata": {},
   "source": [
    "# Confusion Matrix"
   ]
  },
  {
   "cell_type": "code",
   "execution_count": 30,
   "metadata": {},
   "outputs": [
    {
     "name": "stdout",
     "output_type": "stream",
     "text": [
      "[[326519      0]\n",
      " [     0  36633]]\n"
     ]
    }
   ],
   "source": [
    "from sklearn.metrics import confusion_matrix\n",
    "confusion_matrix = confusion_matrix(y_test, y_test)\n",
    "print(confusion_matrix)"
   ]
  },
  {
   "cell_type": "markdown",
   "metadata": {},
   "source": [
    "# Precision, Recall, F-measure & Support"
   ]
  },
  {
   "cell_type": "code",
   "execution_count": null,
   "metadata": {},
   "outputs": [],
   "source": [
    "#tp = true positive\n",
    "#tn = true negative\n",
    "#fp = false positive\n",
    "#fn = false negative\n",
    "# precision = tp/(tp + fp). \n",
    "#The PRECISION is intuitively the ability of \n",
    "#the classifier to not label a sample as positive if it is negative\n",
    "#  recall = tp/(tp+fn)\n",
    "# RECALL is intutively the ability of \n",
    "# the classifier to find all the positive samples\n",
    "# F-beta\n",
    "# The F-beta score can be interpreted as weighted harmonic mean of the \n",
    "# precision and recall.\n",
    "# F-beta score reaches its value at 1 and worst score at 0.\n",
    "# The F-beta score weights the recall more than the precision \n",
    "# by a factor of beta.\n",
    "# beta = 1.0 means recall and precision are equally important.\n",
    "# The SUPPORT is the number of occurences of each class in y_test"
   ]
  },
  {
   "cell_type": "code",
   "execution_count": 32,
   "metadata": {},
   "outputs": [
    {
     "name": "stdout",
     "output_type": "stream",
     "text": [
      "             precision    recall  f1-score   support\n",
      "\n",
      "          0       1.00      1.00      1.00    326519\n",
      "          1       1.00      1.00      1.00     36633\n",
      "\n",
      "avg / total       1.00      1.00      1.00    363152\n",
      "\n"
     ]
    }
   ],
   "source": [
    "from sklearn.metrics import classification_report\n",
    "print(classification_report(y_test, y_test))"
   ]
  },
  {
   "cell_type": "markdown",
   "metadata": {},
   "source": [
    "# ROC [Receiver Operating Characteristic] Curve"
   ]
  },
  {
   "cell_type": "code",
   "execution_count": 34,
   "metadata": {},
   "outputs": [
    {
     "data": {
      "image/png": "[encoded data removed]",
      "text/plain": [
       "<matplotlib.figure.Figure at 0x1eec4e3d9b0>"
      ]
     },
     "metadata": {},
     "output_type": "display_data"
    },
    {
     "data": {
      "image/png": "[encoded data removed]",
      "text/plain": [
       "<matplotlib.figure.Figure at 0x1ee807d5a90>"
      ]
     },
     "metadata": {},
     "output_type": "display_data"
    }
   ],
   "source": [
    "from sklearn.metrics import roc_auc_score\n",
    "from sklearn.metrics import roc_curve\n",
    "logit_roc_auc = roc_auc_score(y_test, logreg.predict(X_test))\n",
    "fpr, tpr, thresholds = roc_curve(y_test, logreg.predict_proba(X_test)[:,1])\n",
    "plt.figure()\n",
    "plt.plot(fpr, tpr, label = 'Logistic Regression (area = %0.2f)' %logit_roc_auc)\n",
    "plt.plot([0,1],[0,1],'r--')\n",
    "plt.xlim([0.0,1.0])\n",
    "plt.ylim([0.0,1.05])\n",
    "plt.xlabel('False Positive Rate')\n",
    "plt.ylabel('True Positive Rate')\n",
    "plt.title('Receiver Operating Characteristic')\n",
    "plt.legend(loc=\"lower right\")\n",
    "plt.savefig('Log_ROC')\n",
    "plt.show()"
   ]
  },
  {
   "cell_type": "code",
   "execution_count": null,
   "metadata": {
    "collapsed": true
   },
   "outputs": [],
   "source": [
    "#The Receiver Operating Characteristic (ROC) curve is another common tool\n",
    "# used with binary classifiers. \n",
    "# The dotted line represents the ROC curve of a purely random classifier:\n",
    "# A good classifier stays as far away from that line as possible\n",
    "#(towards the top-left corner)"
   ]
  },
  {
   "cell_type": "code",
   "execution_count": null,
   "metadata": {
    "collapsed": true
   },
   "outputs": [],
   "source": []
  },
  {
   "cell_type": "code",
   "execution_count": null,
   "metadata": {
    "collapsed": true
   },
   "outputs": [],
   "source": []
  }
 ],
 "metadata": {
  "kernelspec": {
   "display_name": "Python 3",
   "language": "python",
   "name": "python3"
  },
  "language_info": {
   "codemirror_mode": {
    "name": "ipython",
    "version": 3
   },
   "file_extension": ".py",
   "mimetype": "text/x-python",
   "name": "python",
   "nbconvert_exporter": "python",
   "pygments_lexer": "ipython3",
   "version": "3.6.1"
  }
 },
 "nbformat": 4,
 "nbformat_minor": 2
}
