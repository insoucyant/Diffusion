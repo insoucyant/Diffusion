{
 "cells": [
  {
   "cell_type": "code",
   "execution_count": 93,
   "metadata": {},
   "outputs": [
    {
     "data": {
      "text/plain": [
       "'C:\\\\Users\\\\sumith.singh\\\\A_SUBEX'"
      ]
     },
     "execution_count": 93,
     "metadata": {},
     "output_type": "execute_result"
    }
   ],
   "source": [
    "import numpy as np\n",
    "import pandas as pd\n",
    "import matplotlib as mpl\n",
    "import matplotlib.pyplot as plt\n",
    "from sklearn import preprocessing\n",
    "from sklearn import tree\n",
    "from sklearn import datasets\n",
    "import networkx as nx\n",
    "import itertools\n",
    "#import graphviz\n",
    "import os\n",
    "#import nxviz as nv\n",
    "os.getcwd()"
   ]
  },
  {
   "cell_type": "code",
   "execution_count": 46,
   "metadata": {
    "collapsed": true
   },
   "outputs": [],
   "source": [
    "col_names = ['Node', 'Behavior', 'Node', 'Day', 'Flag', 'Nbrs', 'Num_Nbrs',\n",
    "       'Nbrs_Dffsed', 'Num_Nbrs_Dffsd', 'high_nbrs', 'high_nbr_diff',\n",
    "       'Deg_Ctrlty', 'Probability', 'ratio', 'tcudorp', 'knar', 'knar_norm']"
   ]
  },
  {
   "cell_type": "code",
   "execution_count": 47,
   "metadata": {},
   "outputs": [
    {
     "name": "stderr",
     "output_type": "stream",
     "text": [
      "C:\\Users\\sumith.singh\\AppData\\Local\\Continuum\\Anaconda3\\lib\\site-packages\\pandas\\io\\parsers.py:709: UserWarning: Duplicate names specified. This will raise an error in the future.\n",
      "  return _read(filepath_or_buffer, kwds)\n",
      "C:\\Users\\sumith.singh\\AppData\\Local\\Continuum\\Anaconda3\\lib\\site-packages\\IPython\\core\\interactiveshell.py:2717: DtypeWarning: Columns (2) have mixed types. Specify dtype option on import or set low_memory=False.\n",
      "  interactivity=interactivity, compiler=compiler, result=result)\n"
     ]
    }
   ],
   "source": [
    "df = pd.read_csv('df2B_Diff_Algo2_SKA.csv',header=0, names = col_names)"
   ]
  },
  {
   "cell_type": "code",
   "execution_count": 48,
   "metadata": {},
   "outputs": [
    {
     "data": {
      "text/html": [
       "<div>\n",
       "<style scoped>\n",
       "    .dataframe tbody tr th:only-of-type {\n",
       "        vertical-align: middle;\n",
       "    }\n",
       "\n",
       "    .dataframe tbody tr th {\n",
       "        vertical-align: top;\n",
       "    }\n",
       "\n",
       "    .dataframe thead th {\n",
       "        text-align: right;\n",
       "    }\n",
       "</style>\n",
       "<table border=\"1\" class=\"dataframe\">\n",
       "  <thead>\n",
       "    <tr style=\"text-align: right;\">\n",
       "      <th></th>\n",
       "      <th>Node</th>\n",
       "      <th>Behavior</th>\n",
       "      <th>Node.1</th>\n",
       "      <th>Day</th>\n",
       "      <th>Flag</th>\n",
       "      <th>Nbrs</th>\n",
       "      <th>Num_Nbrs</th>\n",
       "      <th>Nbrs_Dffsed</th>\n",
       "      <th>Num_Nbrs_Dffsd</th>\n",
       "      <th>high_nbrs</th>\n",
       "      <th>high_nbr_diff</th>\n",
       "      <th>Deg_Ctrlty</th>\n",
       "      <th>Probability</th>\n",
       "      <th>ratio</th>\n",
       "      <th>tcudorp</th>\n",
       "      <th>knar</th>\n",
       "      <th>knar_norm</th>\n",
       "    </tr>\n",
       "  </thead>\n",
       "  <tbody>\n",
       "    <tr>\n",
       "      <th>571522</th>\n",
       "      <td>571522</td>\n",
       "      <td>B</td>\n",
       "      <td>254776670729</td>\n",
       "      <td>100</td>\n",
       "      <td>Not Diffused</td>\n",
       "      <td>['254776670729', '254770000423']</td>\n",
       "      <td>2</td>\n",
       "      <td>[]</td>\n",
       "      <td>0</td>\n",
       "      <td>['254770000423']</td>\n",
       "      <td>[]</td>\n",
       "      <td>2.478305e-06</td>\n",
       "      <td>0.211868</td>\n",
       "      <td>0.0</td>\n",
       "      <td>0.0</td>\n",
       "      <td>369499.0</td>\n",
       "      <td>0.381704</td>\n",
       "    </tr>\n",
       "    <tr>\n",
       "      <th>444112</th>\n",
       "      <td>444112</td>\n",
       "      <td>B</td>\n",
       "      <td>254770372687</td>\n",
       "      <td>100</td>\n",
       "      <td>Not Diffused</td>\n",
       "      <td>['254773786124', '254772959075']</td>\n",
       "      <td>2</td>\n",
       "      <td>[]</td>\n",
       "      <td>0</td>\n",
       "      <td>['254772959075']</td>\n",
       "      <td>[]</td>\n",
       "      <td>1.652203e-06</td>\n",
       "      <td>0.452519</td>\n",
       "      <td>0.0</td>\n",
       "      <td>0.0</td>\n",
       "      <td>369499.0</td>\n",
       "      <td>0.381704</td>\n",
       "    </tr>\n",
       "    <tr>\n",
       "      <th>275793</th>\n",
       "      <td>275793</td>\n",
       "      <td>B</td>\n",
       "      <td>254773401526</td>\n",
       "      <td>100</td>\n",
       "      <td>Not Diffused</td>\n",
       "      <td>['254776207562', '254775490923', '254771859552...</td>\n",
       "      <td>4</td>\n",
       "      <td>[]</td>\n",
       "      <td>0</td>\n",
       "      <td>['254770902286']</td>\n",
       "      <td>[]</td>\n",
       "      <td>3.304406e-06</td>\n",
       "      <td>0.740591</td>\n",
       "      <td>0.0</td>\n",
       "      <td>0.0</td>\n",
       "      <td>369499.0</td>\n",
       "      <td>0.381704</td>\n",
       "    </tr>\n",
       "    <tr>\n",
       "      <th>465940</th>\n",
       "      <td>465940</td>\n",
       "      <td>B</td>\n",
       "      <td>254771625836</td>\n",
       "      <td>100</td>\n",
       "      <td>Not Diffused</td>\n",
       "      <td>['254771625836', '254770000423']</td>\n",
       "      <td>2</td>\n",
       "      <td>[]</td>\n",
       "      <td>0</td>\n",
       "      <td>['254770000423']</td>\n",
       "      <td>[]</td>\n",
       "      <td>2.478305e-06</td>\n",
       "      <td>0.343100</td>\n",
       "      <td>0.0</td>\n",
       "      <td>0.0</td>\n",
       "      <td>369499.0</td>\n",
       "      <td>0.381704</td>\n",
       "    </tr>\n",
       "    <tr>\n",
       "      <th>538660</th>\n",
       "      <td>538660</td>\n",
       "      <td>B</td>\n",
       "      <td>254774159820</td>\n",
       "      <td>100</td>\n",
       "      <td>Resistant</td>\n",
       "      <td>['254772070456']</td>\n",
       "      <td>1</td>\n",
       "      <td>[]</td>\n",
       "      <td>0</td>\n",
       "      <td>['254772070456']</td>\n",
       "      <td>[]</td>\n",
       "      <td>8.261015e-07</td>\n",
       "      <td>0.032453</td>\n",
       "      <td>0.0</td>\n",
       "      <td>0.0</td>\n",
       "      <td>NaN</td>\n",
       "      <td>NaN</td>\n",
       "    </tr>\n",
       "  </tbody>\n",
       "</table>\n",
       "</div>"
      ],
      "text/plain": [
       "          Node Behavior        Node.1  Day          Flag  \\\n",
       "571522  571522        B  254776670729  100  Not Diffused   \n",
       "444112  444112        B  254770372687  100  Not Diffused   \n",
       "275793  275793        B  254773401526  100  Not Diffused   \n",
       "465940  465940        B  254771625836  100  Not Diffused   \n",
       "538660  538660        B  254774159820  100     Resistant   \n",
       "\n",
       "                                                     Nbrs  Num_Nbrs  \\\n",
       "571522                   ['254776670729', '254770000423']         2   \n",
       "444112                   ['254773786124', '254772959075']         2   \n",
       "275793  ['254776207562', '254775490923', '254771859552...         4   \n",
       "465940                   ['254771625836', '254770000423']         2   \n",
       "538660                                   ['254772070456']         1   \n",
       "\n",
       "       Nbrs_Dffsed  Num_Nbrs_Dffsd         high_nbrs high_nbr_diff  \\\n",
       "571522          []               0  ['254770000423']            []   \n",
       "444112          []               0  ['254772959075']            []   \n",
       "275793          []               0  ['254770902286']            []   \n",
       "465940          []               0  ['254770000423']            []   \n",
       "538660          []               0  ['254772070456']            []   \n",
       "\n",
       "          Deg_Ctrlty  Probability  ratio  tcudorp      knar  knar_norm  \n",
       "571522  2.478305e-06     0.211868    0.0      0.0  369499.0   0.381704  \n",
       "444112  1.652203e-06     0.452519    0.0      0.0  369499.0   0.381704  \n",
       "275793  3.304406e-06     0.740591    0.0      0.0  369499.0   0.381704  \n",
       "465940  2.478305e-06     0.343100    0.0      0.0  369499.0   0.381704  \n",
       "538660  8.261015e-07     0.032453    0.0      0.0       NaN        NaN  "
      ]
     },
     "execution_count": 48,
     "metadata": {},
     "output_type": "execute_result"
    }
   ],
   "source": [
    "df.sample(5)"
   ]
  },
  {
   "cell_type": "code",
   "execution_count": 35,
   "metadata": {
    "collapsed": true
   },
   "outputs": [],
   "source": [
    "df.reset_index(inplace=True)\n",
    "df.drop(columns='index', inplace=True)"
   ]
  },
  {
   "cell_type": "code",
   "execution_count": 44,
   "metadata": {},
   "outputs": [
    {
     "data": {
      "text/html": [
       "<div>\n",
       "<style scoped>\n",
       "    .dataframe tbody tr th:only-of-type {\n",
       "        vertical-align: middle;\n",
       "    }\n",
       "\n",
       "    .dataframe tbody tr th {\n",
       "        vertical-align: top;\n",
       "    }\n",
       "\n",
       "    .dataframe thead th {\n",
       "        text-align: right;\n",
       "    }\n",
       "</style>\n",
       "<table border=\"1\" class=\"dataframe\">\n",
       "  <thead>\n",
       "    <tr style=\"text-align: right;\">\n",
       "      <th></th>\n",
       "      <th>Unnamed: 0</th>\n",
       "      <th>Behavior</th>\n",
       "      <th>Node</th>\n",
       "      <th>Day</th>\n",
       "      <th>Flag</th>\n",
       "      <th>Nbrs</th>\n",
       "      <th>Num_Nbrs</th>\n",
       "      <th>Nbrs_Dffsed</th>\n",
       "      <th>Num_Nbrs_Dffsd</th>\n",
       "      <th>high_nbrs</th>\n",
       "      <th>high_nbr_diff</th>\n",
       "      <th>Deg_Ctrlty</th>\n",
       "      <th>Probability</th>\n",
       "      <th>ratio</th>\n",
       "      <th>tcudorp</th>\n",
       "      <th>knar</th>\n",
       "      <th>knar_norm</th>\n",
       "    </tr>\n",
       "  </thead>\n",
       "  <tbody>\n",
       "    <tr>\n",
       "      <th>1203323</th>\n",
       "      <td>1203323</td>\n",
       "      <td>B</td>\n",
       "      <td>254772248501</td>\n",
       "      <td>100</td>\n",
       "      <td>Not Diffused</td>\n",
       "      <td>['254771207777']</td>\n",
       "      <td>1</td>\n",
       "      <td>['254771207777']</td>\n",
       "      <td>1</td>\n",
       "      <td>['254771207777']</td>\n",
       "      <td>['254771207777']</td>\n",
       "      <td>8.261015e-07</td>\n",
       "      <td>0.637246</td>\n",
       "      <td>1.0</td>\n",
       "      <td>5.264297e-07</td>\n",
       "      <td>860330.0</td>\n",
       "      <td>0.888748</td>\n",
       "    </tr>\n",
       "    <tr>\n",
       "      <th>1162482</th>\n",
       "      <td>1162482</td>\n",
       "      <td>B</td>\n",
       "      <td>254770211014</td>\n",
       "      <td>100</td>\n",
       "      <td>Not Diffused</td>\n",
       "      <td>['254774671935']</td>\n",
       "      <td>1</td>\n",
       "      <td>[]</td>\n",
       "      <td>0</td>\n",
       "      <td>['254774671935']</td>\n",
       "      <td>[]</td>\n",
       "      <td>8.261015e-07</td>\n",
       "      <td>0.190758</td>\n",
       "      <td>0.0</td>\n",
       "      <td>0.000000e+00</td>\n",
       "      <td>369499.0</td>\n",
       "      <td>0.381704</td>\n",
       "    </tr>\n",
       "    <tr>\n",
       "      <th>995683</th>\n",
       "      <td>995683</td>\n",
       "      <td>B</td>\n",
       "      <td>254775055553</td>\n",
       "      <td>1</td>\n",
       "      <td>Diffused</td>\n",
       "      <td>['254771367463']</td>\n",
       "      <td>1</td>\n",
       "      <td>[]</td>\n",
       "      <td>0</td>\n",
       "      <td>['254771367463']</td>\n",
       "      <td>[]</td>\n",
       "      <td>8.261015e-07</td>\n",
       "      <td>0.906386</td>\n",
       "      <td>0.0</td>\n",
       "      <td>0.000000e+00</td>\n",
       "      <td>NaN</td>\n",
       "      <td>NaN</td>\n",
       "    </tr>\n",
       "    <tr>\n",
       "      <th>508832</th>\n",
       "      <td>508832</td>\n",
       "      <td>B</td>\n",
       "      <td>254770529378</td>\n",
       "      <td>100</td>\n",
       "      <td>Not Diffused</td>\n",
       "      <td>['254771200000']</td>\n",
       "      <td>1</td>\n",
       "      <td>[]</td>\n",
       "      <td>0</td>\n",
       "      <td>['254771200000']</td>\n",
       "      <td>[]</td>\n",
       "      <td>8.261015e-07</td>\n",
       "      <td>0.454485</td>\n",
       "      <td>0.0</td>\n",
       "      <td>0.000000e+00</td>\n",
       "      <td>369499.0</td>\n",
       "      <td>0.381704</td>\n",
       "    </tr>\n",
       "    <tr>\n",
       "      <th>1041588</th>\n",
       "      <td>1041588</td>\n",
       "      <td>B</td>\n",
       "      <td>254770781315</td>\n",
       "      <td>100</td>\n",
       "      <td>Not Diffused</td>\n",
       "      <td>['254772433371']</td>\n",
       "      <td>1</td>\n",
       "      <td>[]</td>\n",
       "      <td>0</td>\n",
       "      <td>['254772433371']</td>\n",
       "      <td>[]</td>\n",
       "      <td>8.261015e-07</td>\n",
       "      <td>0.474951</td>\n",
       "      <td>0.0</td>\n",
       "      <td>0.000000e+00</td>\n",
       "      <td>369499.0</td>\n",
       "      <td>0.381704</td>\n",
       "    </tr>\n",
       "  </tbody>\n",
       "</table>\n",
       "</div>"
      ],
      "text/plain": [
       "         Unnamed: 0 Behavior          Node  Day          Flag  \\\n",
       "1203323     1203323        B  254772248501  100  Not Diffused   \n",
       "1162482     1162482        B  254770211014  100  Not Diffused   \n",
       "995683       995683        B  254775055553    1      Diffused   \n",
       "508832       508832        B  254770529378  100  Not Diffused   \n",
       "1041588     1041588        B  254770781315  100  Not Diffused   \n",
       "\n",
       "                     Nbrs  Num_Nbrs       Nbrs_Dffsed  Num_Nbrs_Dffsd  \\\n",
       "1203323  ['254771207777']         1  ['254771207777']               1   \n",
       "1162482  ['254774671935']         1                []               0   \n",
       "995683   ['254771367463']         1                []               0   \n",
       "508832   ['254771200000']         1                []               0   \n",
       "1041588  ['254772433371']         1                []               0   \n",
       "\n",
       "                high_nbrs     high_nbr_diff    Deg_Ctrlty  Probability  ratio  \\\n",
       "1203323  ['254771207777']  ['254771207777']  8.261015e-07     0.637246    1.0   \n",
       "1162482  ['254774671935']                []  8.261015e-07     0.190758    0.0   \n",
       "995683   ['254771367463']                []  8.261015e-07     0.906386    0.0   \n",
       "508832   ['254771200000']                []  8.261015e-07     0.454485    0.0   \n",
       "1041588  ['254772433371']                []  8.261015e-07     0.474951    0.0   \n",
       "\n",
       "              tcudorp      knar  knar_norm  \n",
       "1203323  5.264297e-07  860330.0   0.888748  \n",
       "1162482  0.000000e+00  369499.0   0.381704  \n",
       "995683   0.000000e+00       NaN        NaN  \n",
       "508832   0.000000e+00  369499.0   0.381704  \n",
       "1041588  0.000000e+00  369499.0   0.381704  "
      ]
     },
     "execution_count": 44,
     "metadata": {},
     "output_type": "execute_result"
    }
   ],
   "source": [
    "df.sample(5)"
   ]
  },
  {
   "cell_type": "code",
   "execution_count": 45,
   "metadata": {},
   "outputs": [],
   "source": [
    "#df.loc[df.Flag == 'Resistant',['Flag']] == 'Not Diffused'"
   ]
  },
  {
   "cell_type": "code",
   "execution_count": 40,
   "metadata": {},
   "outputs": [
    {
     "data": {
      "text/plain": [
       "Index(['Unnamed: 0', 'Behavior', 'Node', 'Day', 'Flag', 'Nbrs', 'Num_Nbrs',\n",
       "       'Nbrs_Dffsed', 'Num_Nbrs_Dffsd', 'high_nbrs', 'high_nbr_diff',\n",
       "       'Deg_Ctrlty', 'Probability', 'ratio', 'tcudorp', 'knar', 'knar_norm'],\n",
       "      dtype='object')"
      ]
     },
     "execution_count": 40,
     "metadata": {},
     "output_type": "execute_result"
    }
   ],
   "source": [
    "df.columns"
   ]
  },
  {
   "cell_type": "code",
   "execution_count": 41,
   "metadata": {},
   "outputs": [
    {
     "data": {
      "text/plain": [
       "Counter({'Diffused': 121498, 'Not Diffused': 968025, 'Resistant': 120983})"
      ]
     },
     "execution_count": 41,
     "metadata": {},
     "output_type": "execute_result"
    }
   ],
   "source": [
    "from collections import Counter\n",
    "Counter(df['Flag'])"
   ]
  },
  {
   "cell_type": "code",
   "execution_count": 42,
   "metadata": {},
   "outputs": [
    {
     "data": {
      "text/plain": [
       "Unnamed: 0          int64\n",
       "Behavior           object\n",
       "Node               object\n",
       "Day                 int64\n",
       "Flag               object\n",
       "Nbrs               object\n",
       "Num_Nbrs            int64\n",
       "Nbrs_Dffsed        object\n",
       "Num_Nbrs_Dffsd      int64\n",
       "high_nbrs          object\n",
       "high_nbr_diff      object\n",
       "Deg_Ctrlty        float64\n",
       "Probability       float64\n",
       "ratio             float64\n",
       "tcudorp           float64\n",
       "knar              float64\n",
       "knar_norm         float64\n",
       "dtype: object"
      ]
     },
     "execution_count": 42,
     "metadata": {},
     "output_type": "execute_result"
    }
   ],
   "source": [
    "df.dtypes"
   ]
  },
  {
   "cell_type": "code",
   "execution_count": 117,
   "metadata": {},
   "outputs": [
    {
     "data": {
      "text/html": [
       "<div>\n",
       "<style scoped>\n",
       "    .dataframe tbody tr th:only-of-type {\n",
       "        vertical-align: middle;\n",
       "    }\n",
       "\n",
       "    .dataframe tbody tr th {\n",
       "        vertical-align: top;\n",
       "    }\n",
       "\n",
       "    .dataframe thead th {\n",
       "        text-align: right;\n",
       "    }\n",
       "</style>\n",
       "<table border=\"1\" class=\"dataframe\">\n",
       "  <thead>\n",
       "    <tr style=\"text-align: right;\">\n",
       "      <th></th>\n",
       "      <th>Behavior</th>\n",
       "      <th>Flag</th>\n",
       "      <th>Day</th>\n",
       "      <th>Num_Nbrs</th>\n",
       "      <th>Num_Nbrs_Dffsd</th>\n",
       "      <th>high_nbr_diff</th>\n",
       "      <th>Deg_Ctrlty</th>\n",
       "      <th>ratio</th>\n",
       "      <th>tcudorp</th>\n",
       "    </tr>\n",
       "  </thead>\n",
       "  <tbody>\n",
       "    <tr>\n",
       "      <th>788188</th>\n",
       "      <td>B</td>\n",
       "      <td>Not Diffused</td>\n",
       "      <td>100</td>\n",
       "      <td>1</td>\n",
       "      <td>0</td>\n",
       "      <td>[]</td>\n",
       "      <td>8.261015e-07</td>\n",
       "      <td>0.0</td>\n",
       "      <td>0.000000e+00</td>\n",
       "    </tr>\n",
       "    <tr>\n",
       "      <th>46876</th>\n",
       "      <td>B</td>\n",
       "      <td>Not Diffused</td>\n",
       "      <td>100</td>\n",
       "      <td>11</td>\n",
       "      <td>0</td>\n",
       "      <td>[]</td>\n",
       "      <td>9.087117e-06</td>\n",
       "      <td>0.0</td>\n",
       "      <td>0.000000e+00</td>\n",
       "    </tr>\n",
       "    <tr>\n",
       "      <th>889371</th>\n",
       "      <td>B</td>\n",
       "      <td>Not Diffused</td>\n",
       "      <td>100</td>\n",
       "      <td>2</td>\n",
       "      <td>0</td>\n",
       "      <td>[]</td>\n",
       "      <td>1.652203e-06</td>\n",
       "      <td>0.0</td>\n",
       "      <td>0.000000e+00</td>\n",
       "    </tr>\n",
       "    <tr>\n",
       "      <th>1189177</th>\n",
       "      <td>B</td>\n",
       "      <td>Not Diffused</td>\n",
       "      <td>100</td>\n",
       "      <td>1</td>\n",
       "      <td>0</td>\n",
       "      <td>[]</td>\n",
       "      <td>8.261015e-07</td>\n",
       "      <td>0.0</td>\n",
       "      <td>0.000000e+00</td>\n",
       "    </tr>\n",
       "    <tr>\n",
       "      <th>577519</th>\n",
       "      <td>B</td>\n",
       "      <td>Not Diffused</td>\n",
       "      <td>100</td>\n",
       "      <td>1</td>\n",
       "      <td>1</td>\n",
       "      <td>['254775425736']</td>\n",
       "      <td>8.261015e-07</td>\n",
       "      <td>1.0</td>\n",
       "      <td>5.591869e-07</td>\n",
       "    </tr>\n",
       "  </tbody>\n",
       "</table>\n",
       "</div>"
      ],
      "text/plain": [
       "        Behavior          Flag  Day  Num_Nbrs  Num_Nbrs_Dffsd  \\\n",
       "788188         B  Not Diffused  100         1               0   \n",
       "46876          B  Not Diffused  100        11               0   \n",
       "889371         B  Not Diffused  100         2               0   \n",
       "1189177        B  Not Diffused  100         1               0   \n",
       "577519         B  Not Diffused  100         1               1   \n",
       "\n",
       "            high_nbr_diff    Deg_Ctrlty  ratio       tcudorp  \n",
       "788188                 []  8.261015e-07    0.0  0.000000e+00  \n",
       "46876                  []  9.087117e-06    0.0  0.000000e+00  \n",
       "889371                 []  1.652203e-06    0.0  0.000000e+00  \n",
       "1189177                []  8.261015e-07    0.0  0.000000e+00  \n",
       "577519   ['254775425736']  8.261015e-07    1.0  5.591869e-07  "
      ]
     },
     "execution_count": 117,
     "metadata": {},
     "output_type": "execute_result"
    }
   ],
   "source": [
    "dfDT = df[['Behavior','Flag','Day','Num_Nbrs','Num_Nbrs_Dffsd','high_nbr_diff','Deg_Ctrlty','ratio','tcudorp']].copy()\n",
    "dfDT.sample(5)"
   ]
  },
  {
   "cell_type": "code",
   "execution_count": 119,
   "metadata": {},
   "outputs": [],
   "source": [
    "k = dfDT.iloc[12,[4]].values"
   ]
  },
  {
   "cell_type": "code",
   "execution_count": 120,
   "metadata": {},
   "outputs": [
    {
     "data": {
      "text/plain": [
       "array([7], dtype=object)"
      ]
     },
     "execution_count": 120,
     "metadata": {},
     "output_type": "execute_result"
    }
   ],
   "source": [
    "k"
   ]
  },
  {
   "cell_type": "code",
   "execution_count": 121,
   "metadata": {},
   "outputs": [],
   "source": [
    "def DT(df):\n",
    "    if df['Flag'] == \"Resistant\":\n",
    "        return \"Not Diffused\"\n",
    "    elif df['Flag'] == \"Not Diffused\":\n",
    "        return \"Not Diffused\"\n",
    "    else:\n",
    "        return \"Diffused\"   "
   ]
  },
  {
   "cell_type": "code",
   "execution_count": 122,
   "metadata": {
    "collapsed": true
   },
   "outputs": [],
   "source": [
    "dfDT['Flag'] = dfDT.apply(DT,axis=1)"
   ]
  },
  {
   "cell_type": "code",
   "execution_count": 123,
   "metadata": {},
   "outputs": [
    {
     "data": {
      "text/html": [
       "<div>\n",
       "<style scoped>\n",
       "    .dataframe tbody tr th:only-of-type {\n",
       "        vertical-align: middle;\n",
       "    }\n",
       "\n",
       "    .dataframe tbody tr th {\n",
       "        vertical-align: top;\n",
       "    }\n",
       "\n",
       "    .dataframe thead th {\n",
       "        text-align: right;\n",
       "    }\n",
       "</style>\n",
       "<table border=\"1\" class=\"dataframe\">\n",
       "  <thead>\n",
       "    <tr style=\"text-align: right;\">\n",
       "      <th></th>\n",
       "      <th>Behavior</th>\n",
       "      <th>Flag</th>\n",
       "      <th>Day</th>\n",
       "      <th>Num_Nbrs</th>\n",
       "      <th>Num_Nbrs_Dffsd</th>\n",
       "      <th>high_nbr_diff</th>\n",
       "      <th>Deg_Ctrlty</th>\n",
       "      <th>ratio</th>\n",
       "      <th>tcudorp</th>\n",
       "    </tr>\n",
       "  </thead>\n",
       "  <tbody>\n",
       "    <tr>\n",
       "      <th>881687</th>\n",
       "      <td>B</td>\n",
       "      <td>Not Diffused</td>\n",
       "      <td>100</td>\n",
       "      <td>1</td>\n",
       "      <td>0</td>\n",
       "      <td>[]</td>\n",
       "      <td>8.261015e-07</td>\n",
       "      <td>0.0</td>\n",
       "      <td>0.0</td>\n",
       "    </tr>\n",
       "    <tr>\n",
       "      <th>928792</th>\n",
       "      <td>B</td>\n",
       "      <td>Diffused</td>\n",
       "      <td>1</td>\n",
       "      <td>3</td>\n",
       "      <td>0</td>\n",
       "      <td>[]</td>\n",
       "      <td>2.478305e-06</td>\n",
       "      <td>0.0</td>\n",
       "      <td>0.0</td>\n",
       "    </tr>\n",
       "    <tr>\n",
       "      <th>1033606</th>\n",
       "      <td>B</td>\n",
       "      <td>Not Diffused</td>\n",
       "      <td>100</td>\n",
       "      <td>1</td>\n",
       "      <td>0</td>\n",
       "      <td>[]</td>\n",
       "      <td>8.261015e-07</td>\n",
       "      <td>0.0</td>\n",
       "      <td>0.0</td>\n",
       "    </tr>\n",
       "    <tr>\n",
       "      <th>127506</th>\n",
       "      <td>B</td>\n",
       "      <td>Not Diffused</td>\n",
       "      <td>100</td>\n",
       "      <td>3</td>\n",
       "      <td>0</td>\n",
       "      <td>[]</td>\n",
       "      <td>3.304406e-06</td>\n",
       "      <td>0.0</td>\n",
       "      <td>0.0</td>\n",
       "    </tr>\n",
       "    <tr>\n",
       "      <th>786355</th>\n",
       "      <td>B</td>\n",
       "      <td>Not Diffused</td>\n",
       "      <td>100</td>\n",
       "      <td>1</td>\n",
       "      <td>0</td>\n",
       "      <td>[]</td>\n",
       "      <td>8.261015e-07</td>\n",
       "      <td>0.0</td>\n",
       "      <td>0.0</td>\n",
       "    </tr>\n",
       "  </tbody>\n",
       "</table>\n",
       "</div>"
      ],
      "text/plain": [
       "        Behavior          Flag  Day  Num_Nbrs  Num_Nbrs_Dffsd high_nbr_diff  \\\n",
       "881687         B  Not Diffused  100         1               0            []   \n",
       "928792         B      Diffused    1         3               0            []   \n",
       "1033606        B  Not Diffused  100         1               0            []   \n",
       "127506         B  Not Diffused  100         3               0            []   \n",
       "786355         B  Not Diffused  100         1               0            []   \n",
       "\n",
       "           Deg_Ctrlty  ratio  tcudorp  \n",
       "881687   8.261015e-07    0.0      0.0  \n",
       "928792   2.478305e-06    0.0      0.0  \n",
       "1033606  8.261015e-07    0.0      0.0  \n",
       "127506   3.304406e-06    0.0      0.0  \n",
       "786355   8.261015e-07    0.0      0.0  "
      ]
     },
     "execution_count": 123,
     "metadata": {},
     "output_type": "execute_result"
    }
   ],
   "source": [
    "dfDT.sample(5)"
   ]
  },
  {
   "cell_type": "code",
   "execution_count": 124,
   "metadata": {
    "collapsed": true
   },
   "outputs": [],
   "source": [
    "def HNDT(df):\n",
    "    \"\"\"\n",
    "    To check whether high neighbor has diffused or not\n",
    "    \"\"\"\n",
    "    if df['high_nbr_diff'] != '':\n",
    "        return 1\n",
    "    else:\n",
    "        return 0"
   ]
  },
  {
   "cell_type": "code",
   "execution_count": 125,
   "metadata": {},
   "outputs": [
    {
     "data": {
      "text/html": [
       "<div>\n",
       "<style scoped>\n",
       "    .dataframe tbody tr th:only-of-type {\n",
       "        vertical-align: middle;\n",
       "    }\n",
       "\n",
       "    .dataframe tbody tr th {\n",
       "        vertical-align: top;\n",
       "    }\n",
       "\n",
       "    .dataframe thead th {\n",
       "        text-align: right;\n",
       "    }\n",
       "</style>\n",
       "<table border=\"1\" class=\"dataframe\">\n",
       "  <thead>\n",
       "    <tr style=\"text-align: right;\">\n",
       "      <th></th>\n",
       "      <th>Behavior</th>\n",
       "      <th>Flag</th>\n",
       "      <th>Day</th>\n",
       "      <th>Num_Nbrs</th>\n",
       "      <th>Num_Nbrs_Dffsd</th>\n",
       "      <th>high_nbr_diff</th>\n",
       "      <th>Deg_Ctrlty</th>\n",
       "      <th>ratio</th>\n",
       "      <th>tcudorp</th>\n",
       "      <th>HNDF</th>\n",
       "    </tr>\n",
       "  </thead>\n",
       "  <tbody>\n",
       "    <tr>\n",
       "      <th>646208</th>\n",
       "      <td>B</td>\n",
       "      <td>Diffused</td>\n",
       "      <td>1</td>\n",
       "      <td>1</td>\n",
       "      <td>0</td>\n",
       "      <td>[]</td>\n",
       "      <td>8.261015e-07</td>\n",
       "      <td>0.00</td>\n",
       "      <td>0.000000e+00</td>\n",
       "      <td>1</td>\n",
       "    </tr>\n",
       "    <tr>\n",
       "      <th>303470</th>\n",
       "      <td>B</td>\n",
       "      <td>Not Diffused</td>\n",
       "      <td>100</td>\n",
       "      <td>4</td>\n",
       "      <td>1</td>\n",
       "      <td>[]</td>\n",
       "      <td>3.304406e-06</td>\n",
       "      <td>0.25</td>\n",
       "      <td>4.527850e-07</td>\n",
       "      <td>1</td>\n",
       "    </tr>\n",
       "    <tr>\n",
       "      <th>847620</th>\n",
       "      <td>B</td>\n",
       "      <td>Not Diffused</td>\n",
       "      <td>100</td>\n",
       "      <td>2</td>\n",
       "      <td>1</td>\n",
       "      <td>['254770399566']</td>\n",
       "      <td>1.652203e-06</td>\n",
       "      <td>0.50</td>\n",
       "      <td>4.041932e-07</td>\n",
       "      <td>1</td>\n",
       "    </tr>\n",
       "    <tr>\n",
       "      <th>1109798</th>\n",
       "      <td>B</td>\n",
       "      <td>Diffused</td>\n",
       "      <td>1</td>\n",
       "      <td>1</td>\n",
       "      <td>0</td>\n",
       "      <td>[]</td>\n",
       "      <td>8.261015e-07</td>\n",
       "      <td>0.00</td>\n",
       "      <td>0.000000e+00</td>\n",
       "      <td>1</td>\n",
       "    </tr>\n",
       "    <tr>\n",
       "      <th>240682</th>\n",
       "      <td>B</td>\n",
       "      <td>Diffused</td>\n",
       "      <td>1</td>\n",
       "      <td>3</td>\n",
       "      <td>0</td>\n",
       "      <td>[]</td>\n",
       "      <td>2.478305e-06</td>\n",
       "      <td>0.00</td>\n",
       "      <td>0.000000e+00</td>\n",
       "      <td>1</td>\n",
       "    </tr>\n",
       "  </tbody>\n",
       "</table>\n",
       "</div>"
      ],
      "text/plain": [
       "        Behavior          Flag  Day  Num_Nbrs  Num_Nbrs_Dffsd  \\\n",
       "646208         B      Diffused    1         1               0   \n",
       "303470         B  Not Diffused  100         4               1   \n",
       "847620         B  Not Diffused  100         2               1   \n",
       "1109798        B      Diffused    1         1               0   \n",
       "240682         B      Diffused    1         3               0   \n",
       "\n",
       "            high_nbr_diff    Deg_Ctrlty  ratio       tcudorp  HNDF  \n",
       "646208                 []  8.261015e-07   0.00  0.000000e+00     1  \n",
       "303470                 []  3.304406e-06   0.25  4.527850e-07     1  \n",
       "847620   ['254770399566']  1.652203e-06   0.50  4.041932e-07     1  \n",
       "1109798                []  8.261015e-07   0.00  0.000000e+00     1  \n",
       "240682                 []  2.478305e-06   0.00  0.000000e+00     1  "
      ]
     },
     "execution_count": 125,
     "metadata": {},
     "output_type": "execute_result"
    }
   ],
   "source": [
    "dfDT['HNDF'] = df.apply(HNDT,axis=1)\n",
    "dfDT.sample(5)"
   ]
  },
  {
   "cell_type": "code",
   "execution_count": 126,
   "metadata": {
    "collapsed": true
   },
   "outputs": [],
   "source": [
    "features  = ['Num_Nbrs',\n",
    " 'Num_Nbrs_Dffsd',\n",
    " 'Deg_Ctrlty',\n",
    " 'ratio',\n",
    " 'tcudorp']\n",
    "target = 'Flag'"
   ]
  },
  {
   "cell_type": "code",
   "execution_count": 127,
   "metadata": {},
   "outputs": [
    {
     "data": {
      "text/html": [
       "<div>\n",
       "<style scoped>\n",
       "    .dataframe tbody tr th:only-of-type {\n",
       "        vertical-align: middle;\n",
       "    }\n",
       "\n",
       "    .dataframe tbody tr th {\n",
       "        vertical-align: top;\n",
       "    }\n",
       "\n",
       "    .dataframe thead th {\n",
       "        text-align: right;\n",
       "    }\n",
       "</style>\n",
       "<table border=\"1\" class=\"dataframe\">\n",
       "  <thead>\n",
       "    <tr style=\"text-align: right;\">\n",
       "      <th></th>\n",
       "      <th>Num_Nbrs</th>\n",
       "      <th>Num_Nbrs_Dffsd</th>\n",
       "      <th>Deg_Ctrlty</th>\n",
       "      <th>ratio</th>\n",
       "      <th>tcudorp</th>\n",
       "    </tr>\n",
       "  </thead>\n",
       "  <tbody>\n",
       "    <tr>\n",
       "      <th>218434</th>\n",
       "      <td>4</td>\n",
       "      <td>0</td>\n",
       "      <td>3.304406e-06</td>\n",
       "      <td>0.0</td>\n",
       "      <td>0.0</td>\n",
       "    </tr>\n",
       "    <tr>\n",
       "      <th>335221</th>\n",
       "      <td>3</td>\n",
       "      <td>0</td>\n",
       "      <td>2.478305e-06</td>\n",
       "      <td>0.0</td>\n",
       "      <td>0.0</td>\n",
       "    </tr>\n",
       "    <tr>\n",
       "      <th>948426</th>\n",
       "      <td>1</td>\n",
       "      <td>0</td>\n",
       "      <td>8.261015e-07</td>\n",
       "      <td>0.0</td>\n",
       "      <td>0.0</td>\n",
       "    </tr>\n",
       "    <tr>\n",
       "      <th>970644</th>\n",
       "      <td>1</td>\n",
       "      <td>0</td>\n",
       "      <td>8.261015e-07</td>\n",
       "      <td>0.0</td>\n",
       "      <td>0.0</td>\n",
       "    </tr>\n",
       "    <tr>\n",
       "      <th>293854</th>\n",
       "      <td>2</td>\n",
       "      <td>0</td>\n",
       "      <td>2.478305e-06</td>\n",
       "      <td>0.0</td>\n",
       "      <td>0.0</td>\n",
       "    </tr>\n",
       "  </tbody>\n",
       "</table>\n",
       "</div>"
      ],
      "text/plain": [
       "        Num_Nbrs  Num_Nbrs_Dffsd    Deg_Ctrlty  ratio  tcudorp\n",
       "218434         4               0  3.304406e-06    0.0      0.0\n",
       "335221         3               0  2.478305e-06    0.0      0.0\n",
       "948426         1               0  8.261015e-07    0.0      0.0\n",
       "970644         1               0  8.261015e-07    0.0      0.0\n",
       "293854         2               0  2.478305e-06    0.0      0.0"
      ]
     },
     "execution_count": 127,
     "metadata": {},
     "output_type": "execute_result"
    }
   ],
   "source": [
    "dfDT[features].sample(5)"
   ]
  },
  {
   "cell_type": "code",
   "execution_count": 129,
   "metadata": {},
   "outputs": [
    {
     "data": {
      "text/plain": [
       "401121    Not Diffused\n",
       "166286    Not Diffused\n",
       "643377        Diffused\n",
       "689433    Not Diffused\n",
       "115192    Not Diffused\n",
       "Name: Flag, dtype: object"
      ]
     },
     "execution_count": 129,
     "metadata": {},
     "output_type": "execute_result"
    }
   ],
   "source": [
    "dfDT[target].sample(5)"
   ]
  },
  {
   "cell_type": "code",
   "execution_count": 130,
   "metadata": {},
   "outputs": [
    {
     "data": {
      "text/plain": [
       "DecisionTreeClassifier(class_weight=None, criterion='gini', max_depth=2,\n",
       "            max_features=None, max_leaf_nodes=None,\n",
       "            min_impurity_split=1e-07, min_samples_leaf=1,\n",
       "            min_samples_split=2, min_weight_fraction_leaf=0.0,\n",
       "            presort=False, random_state=0, splitter='best')"
      ]
     },
     "execution_count": 130,
     "metadata": {},
     "output_type": "execute_result"
    }
   ],
   "source": [
    "HOW_DEEP_TREES = 2\n",
    "clf = tree.DecisionTreeClassifier(random_state=0,max_depth=HOW_DEEP_TREES)\n",
    "clf = clf.fit(df[features],df[target])\n",
    "clf"
   ]
  },
  {
   "cell_type": "code",
   "execution_count": 131,
   "metadata": {},
   "outputs": [
    {
     "data": {
      "text/plain": [
       "['Diffused', 'Not Diffused']"
      ]
     },
     "execution_count": 131,
     "metadata": {},
     "output_type": "execute_result"
    }
   ],
   "source": [
    "target_names = ['Diffused','Not Diffused']\n",
    "target_names"
   ]
  },
  {
   "cell_type": "code",
   "execution_count": 132,
   "metadata": {},
   "outputs": [],
   "source": [
    "import graphviz\n",
    "dot_data = tree.export_graphviz(clf, out_file=None, feature_names=features,\n",
    "                               class_names = target_names, filled=True, rounded=True, special_characters=True)"
   ]
  },
  {
   "cell_type": "code",
   "execution_count": 133,
   "metadata": {
    "collapsed": true
   },
   "outputs": [],
   "source": [
    "graph = graphviz.Source(dot_data)"
   ]
  },
  {
   "cell_type": "code",
   "execution_count": 134,
   "metadata": {},
   "outputs": [
    {
     "data": {
      "text/plain": [
       "'dtree_diffusion.pdf'"
      ]
     },
     "execution_count": 134,
     "metadata": {},
     "output_type": "execute_result"
    }
   ],
   "source": [
    "graph.render('dtree_diffusion',view=True)"
   ]
  },
  {
   "cell_type": "code",
   "execution_count": null,
   "metadata": {
    "collapsed": true
   },
   "outputs": [],
   "source": []
  }
 ],
 "metadata": {
  "kernelspec": {
   "display_name": "Python 3",
   "language": "python",
   "name": "python3"
  },
  "language_info": {
   "codemirror_mode": {
    "name": "ipython",
    "version": 3
   },
   "file_extension": ".py",
   "mimetype": "text/x-python",
   "name": "python",
   "nbconvert_exporter": "python",
   "pygments_lexer": "ipython3",
   "version": "3.6.1"
  }
 },
 "nbformat": 4,
 "nbformat_minor": 2
}
