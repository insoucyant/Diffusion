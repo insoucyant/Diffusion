{
 "cells": [
  {
   "cell_type": "code",
   "execution_count": 1,
   "metadata": {
    "collapsed": true
   },
   "outputs": [],
   "source": [
    "import random\n",
    "import numpy as np"
   ]
  },
  {
   "cell_type": "code",
   "execution_count": 229,
   "metadata": {},
   "outputs": [
    {
     "name": "stdout",
     "output_type": "stream",
     "text": [
      "You have chosen:\n",
      "1 2\n",
      "Hello (1, 2, 1, 1)\n"
     ]
    }
   ],
   "source": [
    "person = input('Enter your name: ')\n",
    "print('Hello', person)"
   ]
  },
  {
   "cell_type": "code",
   "execution_count": 247,
   "metadata": {},
   "outputs": [
    {
     "ename": "NameError",
     "evalue": "name 'raw_input' is not defined",
     "output_type": "error",
     "traceback": [
      "\u001b[1;31m---------------------------------------------------------------------------\u001b[0m",
      "\u001b[1;31mNameError\u001b[0m                                 Traceback (most recent call last)",
      "\u001b[1;32m<ipython-input-247-d268fafd622f>\u001b[0m in \u001b[0;36m<module>\u001b[1;34m()\u001b[0m\n\u001b[1;32m----> 1\u001b[1;33m \u001b[0ma\u001b[0m \u001b[1;33m=\u001b[0m \u001b[0mraw_input\u001b[0m\u001b[1;33m(\u001b[0m\u001b[1;33m)\u001b[0m\u001b[1;33m\u001b[0m\u001b[0m\n\u001b[0m\u001b[0;32m      2\u001b[0m \u001b[0mprint\u001b[0m\u001b[1;33m(\u001b[0m\u001b[0ma\u001b[0m\u001b[1;33m)\u001b[0m\u001b[1;33m\u001b[0m\u001b[0m\n",
      "\u001b[1;31mNameError\u001b[0m: name 'raw_input' is not defined"
     ]
    }
   ],
   "source": [
    "a = raw_input()\n",
    "print(a)"
   ]
  },
  {
   "cell_type": "code",
   "execution_count": 2,
   "metadata": {
    "collapsed": true
   },
   "outputs": [],
   "source": [
    "def WonQ(T):\n",
    "    print(\"Game Over\")\n",
    "\n",
    "def WonD(T):\n",
    "    print(\"WonTalk: Diag Check\")\n",
    "\n",
    "def WonC(T):\n",
    "    print(\"WonTalk: Col Check\")\n",
    "    \n",
    "def WonR(T):\n",
    "    print(\"WonTalk: Row Check\")\n"
   ]
  },
  {
   "cell_type": "code",
   "execution_count": 3,
   "metadata": {
    "collapsed": true
   },
   "outputs": [],
   "source": [
    "def check(A,B):\n",
    "    x = 1\n",
    "    if A < 1:\n",
    "        print (\"Wrong Input, Try Again\")\n",
    "        x = 0\n",
    "        return x\n",
    "    if B < 1:\n",
    "        print (\"Wrong Input, Try Again\")\n",
    "        x = 0\n",
    "        return x\n",
    "    return x"
   ]
  },
  {
   "cell_type": "code",
   "execution_count": 4,
   "metadata": {
    "collapsed": true
   },
   "outputs": [],
   "source": [
    "def CheckRows(T):\n",
    "    T = T\n",
    "    print(\"RowTalk: Computer is checking the rows. The value of T is:\", T)\n",
    "    for i in range(3):\n",
    "        #print(\"the value of  i in Row Check is:\", i)\n",
    "        x = 0 # To check whether the computer is winning\n",
    "        y = 0 # To check whether the user is winning\n",
    "        for j in range (3):\n",
    "            #print(\"the value of j in Row Check is:\", j)\n",
    "            #print(\"the value of Row A[i,j] is:\", A[i,j])\n",
    "            if A[i,j] == 1:\n",
    "                x = x + 1\n",
    "            if A[i,j] == 0:\n",
    "                y = y + 1\n",
    "               # print (\"RowTalk: CHecking the row\", i, j , y)\n",
    "        #print (\"Following is the value of x and y in row check\")\n",
    "        #print (x,y)\n",
    "        if x == 2 and y == 0 and T==1:\n",
    "            print(\"RowTalk: This is my turn and I am going to win\")\n",
    "            T = 2 \n",
    "            return T # CHANGE\n",
    "        if x == 0 and y == 2 and T==0:\n",
    "            print(\"RowTalk: Yor turn it is now. Call input function\")\n",
    "            T = 2\n",
    "            return T # NO\n",
    "        if x == 0 and y == 2 and T== 1:\n",
    "            print(\"RowTalk: It is my turn and you are getting a row and I need to block you\")\n",
    "            for j in range (3):\n",
    "                if A[i,j] > 1:\n",
    "                    A[i,j] = 1\n",
    "                    T = 0 #This means user is going to play next\n",
    "                    return T # CHANGE\n",
    "        if x == 3:\n",
    "            print (\"RowTalk: Computer wins\")\n",
    "            T == 2\n",
    "            return T # CHANGE\n",
    "        if y == 3:\n",
    "            print (\"RowTalk: You Win\")\n",
    "            T == 2\n",
    "            return T # CHANGE\n",
    "    print (\"RowTalk: I am in check row function and Nothing Happened\")\n",
    "    T =  CheckColumns(T)\n",
    "    return T"
   ]
  },
  {
   "cell_type": "code",
   "execution_count": 5,
   "metadata": {
    "collapsed": true
   },
   "outputs": [],
   "source": [
    "def CheckColumns(T):\n",
    "    T = T\n",
    "    print(\"ColTalk: Computer is  checking the columns\")\n",
    "    for j in range(3):\n",
    "        # print(\"the value of j is:\", j)\n",
    "        x = 0 # To check whether the computer is winning\n",
    "        y = 0 # To check whether the user is winning\n",
    "        for i in range (3):\n",
    "            # print(\"the value of i is:\", i)\n",
    "            if A[i,j] == 1:\n",
    "                x = x + 1\n",
    "            if A[i,j] == 0:\n",
    "                y = y + 1\n",
    "        #print (\"Following is the value of x and y and T\", x,y,T)\n",
    "        if x == 2 and y == 0 and T==1:\n",
    "            print(\"ColTalk:This is my turn and I am going to win\")\n",
    "            T = 2\n",
    "            return T # CHANGE\n",
    "        if x == 0 and y == 2 and T==0:\n",
    "            print(\"ColTalk:Yor turn it is now\")\n",
    "            # T remains same\n",
    "            T = 0\n",
    "            return T # NO \n",
    "        if x == 0 and y == 2 and T== 1:\n",
    "            # T changes here\n",
    "            print(\"ColTalk:It is my turn and you are getting a column and I need to block you. The computer is going to change the value\")\n",
    "            print(\"ColTalk:THI IS THE PLACE.THE VALUE OF J IS:\",j)\n",
    "            for i in range (3):\n",
    "                if A[i,j] != 0:\n",
    "                    A[i,j] = 1\n",
    "                    T = 0\n",
    "                    print(\"ColTalk:I just prevented a row death.Now it is your turn\")\n",
    "                    return T #Change\n",
    "        if x == 3:\n",
    "            # T changes\n",
    "            print (\"ColTalk:Game over!!!Computer wins\")\n",
    "            T = 2\n",
    "            return T\n",
    "        if y == 3:\n",
    "            # T changes\n",
    "            print (\"ColTalk:Game over!!!You Win\")\n",
    "            T = 2\n",
    "            return T #Change\n",
    "    T = LRCheckDiagonals(T)\n",
    "    return T"
   ]
  },
  {
   "cell_type": "code",
   "execution_count": 6,
   "metadata": {
    "collapsed": true
   },
   "outputs": [],
   "source": [
    "def LRCheckDiagonals(T):\n",
    "    T = T\n",
    "    x = 0 # To check whether the computer is winning\n",
    "    y = 0 # To check whether the user is winning\n",
    "    print(\"LRDiagTalk: Computer is  checking the NW to SE diagonals\")\n",
    "    if A[0,0] == 1:\n",
    "        x = x + 1\n",
    "    if A[1,1] == 1:\n",
    "        x = x + 1\n",
    "    if A[2,2] == 1:\n",
    "        x = x + 1\n",
    "    if A[0,0] == 0:\n",
    "        y = y + 1\n",
    "    if A[1,1] == 0:\n",
    "        y = y + 1\n",
    "    if A[2,2] == 0:\n",
    "        y = y + 1\n",
    "    if x == 0 and y == 2 and T== 1:\n",
    "        print(\"LRDiagTalk: It is my turn and you are getting a column and I need to block you\")\n",
    "        for i in range (3):\n",
    "            if A[i,i] != 0:\n",
    "                A[i,i] = 1\n",
    "                T = 0\n",
    "                return T # Change\n",
    "    if x == 3:\n",
    "        print (\"LRDiagTalk: Game over!!!Computer wins\")\n",
    "        T = 3\n",
    "        return T # CHANGE\n",
    "    if y == 3:\n",
    "        print (\"LRDiagTalk: Game over!!!You Win\")\n",
    "        T = 3\n",
    "        return T # CHANGE\n",
    "    T = RLCheckDiagonals(T)\n",
    "    return T\n",
    "\n",
    "def RLCheckDiagonals(T):\n",
    "    x = 0 # To check whether the computer is winning\n",
    "    y = 0 # To check whether the user is winning\n",
    "    print(\"RLDiagTalk: Computer is  checking the SW to NE diagonals\")\n",
    "    if A[0,2] == 1:\n",
    "        x = x + 1\n",
    "    if A[1,1] == 1:\n",
    "        x = x + 1\n",
    "    if A[2,0] == 1:\n",
    "        x = x + 1\n",
    "    if A[0,2] == 0:\n",
    "        y = y + 1\n",
    "    if A[1,1] == 0:\n",
    "        y = y + 1\n",
    "    if A[2,0] == 0:\n",
    "        y = y + 1\n",
    "    if x == 3:\n",
    "        print (\"RLDiagTalk: Game over!!!Computer wins\")\n",
    "        T = 2\n",
    "        return T # change\n",
    "    if y == 3:\n",
    "        print (\"RLDiagTalk: Game over!!!You Win\")\n",
    "        T = 2\n",
    "        return T # CHANGE\n",
    "    return T\n"
   ]
  },
  {
   "cell_type": "code",
   "execution_count": 7,
   "metadata": {
    "collapsed": true
   },
   "outputs": [],
   "source": [
    "A =  (np.matrix([[11,12,13],[21,22,23],[31,32,33]]))\n",
    "T = 0 # You start\n",
    "Turns = 0\n",
    "UsrTrns = 0\n",
    "CmpTrns = 0"
   ]
  },
  {
   "cell_type": "code",
   "execution_count": 11,
   "metadata": {
    "collapsed": true
   },
   "outputs": [],
   "source": [
    "def input(A):\n",
    "    R = 1\n",
    "    C = 3\n",
    "    T = 1 # This means it is computer 's turn now  \n",
    "    #Turns = Turns + 1\n",
    "    print ('You have chosen:')\n",
    "    #print (A + \",\" + B)\n",
    "    print(R,C)\n",
    "    return R, C, T, Turns"
   ]
  },
  {
   "cell_type": "code",
   "execution_count": 12,
   "metadata": {},
   "outputs": [
    {
     "name": "stdout",
     "output_type": "stream",
     "text": [
      "You have chosen:\n",
      "1 3\n",
      " You have chosen correct input.\n",
      "[[11  0  0]\n",
      " [21  1 23]\n",
      " [31 32 33]]\n",
      "It is computer's turn to play now. The Tic-Tac-Toe is as shown above\n",
      "Turns is: 2\n"
     ]
    }
   ],
   "source": [
    "if T == 0:   # T = 0 means user's turn\n",
    "    (R,C, T, Turns) = input(2)\n",
    "    R = R - 1\n",
    "    C = C - 1\n",
    "    if A[R,C] == 0 or A[R,C] == 1:\n",
    "        print (\"You have chosen a wrong input. Please try again\")\n",
    "        T = 0 # You have to repeat your turn \n",
    "        print(A)\n",
    "        print(\"Computer is 1, User is 0\")\n",
    "        \n",
    "    else:\n",
    "        print(\" You have chosen correct input.\")\n",
    "        A [R,C] = 0 # The user's tic tac value is 0 while that of computer 's is 1\n",
    "        Turns = Turns + 1\n",
    "        T = 1\n",
    "        print(A)\n",
    "        print(\"It is computer's turn to play now. The Tic-Tac-Toe is as shown above\")\n",
    "        print(\"Turns is:\", Turns)\n",
    "else:\n",
    "    print(T)\n",
    "    print(\"It is computer's turn now\")\n",
    "\n",
    "\n",
    "       \n",
    "   \n",
    "    "
   ]
  },
  {
   "cell_type": "code",
   "execution_count": 393,
   "metadata": {},
   "outputs": [
    {
     "data": {
      "text/plain": [
       "1"
      ]
     },
     "execution_count": 393,
     "metadata": {},
     "output_type": "execute_result"
    }
   ],
   "source": [
    "T"
   ]
  },
  {
   "cell_type": "code",
   "execution_count": 13,
   "metadata": {},
   "outputs": [
    {
     "name": "stdout",
     "output_type": "stream",
     "text": [
      "MainProgramTalk:  Computer's value is 1. Your value is 0\n",
      "MainProgramTalk: the value of turns is: 2\n",
      "MainProgramTalk: the value of T is: 1\n",
      "RowTalk: Computer is checking the rows. The value of T is: 1\n",
      "RowTalk: It is my turn and you are getting a row and I need to block you\n",
      "The value of T is\n",
      "0\n",
      "1\n",
      "[[ 1  0  0]\n",
      " [21  1 23]\n",
      " [31 32 33]]\n",
      "user please play\n"
     ]
    }
   ],
   "source": [
    "print (\"MainProgramTalk:  Computer's value is 1. Your value is 0\")\n",
    "print(\"MainProgramTalk: the value of turns is:\", Turns)\n",
    "print(\"MainProgramTalk: the value of T is:\", T)\n",
    "if A[1,1] > 1 and T == 1:\n",
    "    A[1,1] = 1\n",
    "    T = 0\n",
    "    print(\"Computer has chnaged the central value. The matrix now is:\")\n",
    "    print(A)\n",
    "    print(\"It is your turn now. Go and change the value in input function and call it\")\n",
    "if A[1,1] < 2:\n",
    "    T1 = T\n",
    "    T = CheckRows(T)\n",
    "    print(\"The value of T is\")\n",
    "    print(T)\n",
    "    print(T1)\n",
    "    if T == 0:\n",
    "        print(A)\n",
    "        print(\"user please play\")\n",
    "    if T == 1:\n",
    "        if Turns > 2:\n",
    "            print(\"computer has to play by performing second level check\")\n",
    "        if Turns < 3:\n",
    "            print(\"computer has to pick a random corner of what is available\")\n",
    "            print(A)\n",
    "            if A[0,0] > 1:\n",
    "                A[0,0] = 1\n",
    "                T = 0\n",
    "                print(A)\n",
    "                print(\"user to play now\")"
   ]
  },
  {
   "cell_type": "code",
   "execution_count": 411,
   "metadata": {
    "collapsed": true
   },
   "outputs": [],
   "source": [
    "def seccheck(T):\n",
    "    if A[1,1] == 1:\n",
    "        if A[0,2] == 0 and A[2,0] == 1:\n",
    "            if A[0,0] > 1:\n",
    "                A[0,0] = 1\n",
    "                T = 0\n",
    "                return T\n",
    "            else:\n",
    "                if A[2,2] > 1:\n",
    "                    A[2,2] = 1\n",
    "                    T = 0\n",
    "                    return T\n",
    "        if A[2,2] == 0 and A[0,0] == 1:\n",
    "            if A[2,0] > 1:\n",
    "                A[2,0] = 1\n",
    "                T = 0\n",
    "                return T\n",
    "            else:\n",
    "                if A[2,2] > 1:\n",
    "                    A[2,2] = 1\n",
    "                    T = 0\n",
    "                    return T\n",
    "    \n",
    "        "
   ]
  },
  {
   "cell_type": "code",
   "execution_count": 161,
   "metadata": {},
   "outputs": [
    {
     "data": {
      "text/plain": [
       "1"
      ]
     },
     "execution_count": 161,
     "metadata": {},
     "output_type": "execute_result"
    }
   ],
   "source": [
    "R"
   ]
  },
  {
   "cell_type": "code",
   "execution_count": 163,
   "metadata": {},
   "outputs": [
    {
     "name": "stdout",
     "output_type": "stream",
     "text": [
      " You have chosen correct input and your input is\n",
      " Computer's value is 0. Your value is 1\n"
     ]
    },
    {
     "data": {
      "text/plain": [
       "22"
      ]
     },
     "execution_count": 163,
     "metadata": {},
     "output_type": "execute_result"
    }
   ],
   "source": []
  },
  {
   "cell_type": "code",
   "execution_count": null,
   "metadata": {
    "collapsed": true
   },
   "outputs": [],
   "source": []
  },
  {
   "cell_type": "code",
   "execution_count": 132,
   "metadata": {
    "collapsed": true
   },
   "outputs": [],
   "source": []
  },
  {
   "cell_type": "code",
   "execution_count": 112,
   "metadata": {
    "collapsed": true
   },
   "outputs": [],
   "source": []
  },
  {
   "cell_type": "code",
   "execution_count": 193,
   "metadata": {
    "collapsed": true
   },
   "outputs": [],
   "source": []
  },
  {
   "cell_type": "code",
   "execution_count": 120,
   "metadata": {
    "collapsed": true
   },
   "outputs": [],
   "source": [
    "\n",
    "   "
   ]
  },
  {
   "cell_type": "code",
   "execution_count": 117,
   "metadata": {},
   "outputs": [
    {
     "data": {
      "text/plain": [
       "0"
      ]
     },
     "execution_count": 117,
     "metadata": {},
     "output_type": "execute_result"
    }
   ],
   "source": []
  },
  {
   "cell_type": "code",
   "execution_count": 124,
   "metadata": {},
   "outputs": [
    {
     "name": "stdout",
     "output_type": "stream",
     "text": [
      "You have chosen a wrong input. Please try again\n",
      " Computer's value is 0. Your value is 1\n"
     ]
    },
    {
     "data": {
      "text/plain": [
       "matrix([[11,  0, 13],\n",
       "        [21, 22,  0],\n",
       "        [ 0, 32, 33]])"
      ]
     },
     "execution_count": 124,
     "metadata": {},
     "output_type": "execute_result"
    }
   ],
   "source": []
  },
  {
   "cell_type": "code",
   "execution_count": 129,
   "metadata": {
    "collapsed": true
   },
   "outputs": [],
   "source": [
    "\n",
    "        "
   ]
  },
  {
   "cell_type": "code",
   "execution_count": 130,
   "metadata": {
    "collapsed": true
   },
   "outputs": [],
   "source": []
  },
  {
   "cell_type": "code",
   "execution_count": 131,
   "metadata": {
    "collapsed": true
   },
   "outputs": [],
   "source": []
  },
  {
   "cell_type": "code",
   "execution_count": 102,
   "metadata": {},
   "outputs": [
    {
     "name": "stdout",
     "output_type": "stream",
     "text": [
      "1\n",
      "22\n",
      "32\n",
      "Following line is value for x and y\n",
      "1 0\n"
     ]
    }
   ],
   "source": [
    "x = 0\n",
    "y = 0\n",
    "for i in range(3):\n",
    "    #print (i)\n",
    "    print (A[i,1])\n",
    "    if A[i,1] == 1:\n",
    "        x = x + 1\n",
    "    if A[i,1] == 0:\n",
    "        y = y + 1\n",
    "print (\"Following line is value for x and y\")\n",
    "print (x,y)\n",
    "if x == 2 and y == 0:\n",
    "    print (\"If this is my turn, Computer is going to win\")\n",
    "    \n",
    "if x == 3:\n",
    "    print (\"Computer wins\")\n",
    "if y == 3:\n",
    "    print (\"You Win\")"
   ]
  },
  {
   "cell_type": "code",
   "execution_count": 81,
   "metadata": {},
   "outputs": [
    {
     "name": "stdout",
     "output_type": "stream",
     "text": [
      "This one is done. Chose another one\n"
     ]
    }
   ],
   "source": [
    "if A[R,C] > 1:\n",
    "    A[R,C] = 1\n",
    "if A[R,C] < 2:\n",
    "    print(\"This one is done. Chose another one\")"
   ]
  },
  {
   "cell_type": "code",
   "execution_count": 80,
   "metadata": {},
   "outputs": [
    {
     "data": {
      "text/plain": [
       "matrix([[11,  1, 13],\n",
       "        [21, 22, 23],\n",
       "        [31, 32, 33]])"
      ]
     },
     "execution_count": 80,
     "metadata": {},
     "output_type": "execute_result"
    }
   ],
   "source": [
    "A"
   ]
  },
  {
   "cell_type": "code",
   "execution_count": 84,
   "metadata": {},
   "outputs": [
    {
     "data": {
      "text/plain": [
       "matrix([[25, 66, 96]])"
      ]
     },
     "execution_count": 84,
     "metadata": {},
     "output_type": "execute_result"
    }
   ],
   "source": [
    "sum(sum(A.T))"
   ]
  },
  {
   "cell_type": "code",
   "execution_count": 85,
   "metadata": {},
   "outputs": [
    {
     "data": {
      "text/plain": [
       "matrix([[11,  1, 13]])"
      ]
     },
     "execution_count": 85,
     "metadata": {},
     "output_type": "execute_result"
    }
   ],
   "source": [
    "A[:1]"
   ]
  },
  {
   "cell_type": "code",
   "execution_count": null,
   "metadata": {
    "collapsed": true
   },
   "outputs": [],
   "source": []
  },
  {
   "cell_type": "code",
   "execution_count": null,
   "metadata": {
    "collapsed": true
   },
   "outputs": [],
   "source": [
    "A =  (np.matrix([[0,0,0],[0,0,0],[0,0,0]]))"
   ]
  }
 ],
 "metadata": {
  "kernelspec": {
   "display_name": "Python 3",
   "language": "python",
   "name": "python3"
  },
  "language_info": {
   "codemirror_mode": {
    "name": "ipython",
    "version": 3
   },
   "file_extension": ".py",
   "mimetype": "text/x-python",
   "name": "python",
   "nbconvert_exporter": "python",
   "pygments_lexer": "ipython3",
   "version": "3.6.1"
  }
 },
 "nbformat": 4,
 "nbformat_minor": 2
}
