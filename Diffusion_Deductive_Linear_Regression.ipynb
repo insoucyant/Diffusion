{
 "cells": [
  {
   "cell_type": "code",
   "execution_count": 10,
   "metadata": {},
   "outputs": [
    {
     "data": {
      "text/plain": [
       "'C:\\\\Users\\\\sumith.singh\\\\A_SUBEX'"
      ]
     },
     "execution_count": 10,
     "metadata": {},
     "output_type": "execute_result"
    }
   ],
   "source": [
    "import numpy as np\n",
    "import pandas as pd\n",
    "import seaborn as sns\n",
    "import matplotlib as mpl\n",
    "import matplotlib.pyplot as plt\n",
    "from sklearn import preprocessing\n",
    "from sklearn import datasets\n",
    "import os\n",
    "#import nxviz as nv\n",
    "os.getcwd()"
   ]
  },
  {
   "cell_type": "code",
   "execution_count": 2,
   "metadata": {
    "collapsed": true
   },
   "outputs": [],
   "source": [
    "col_names = ['Node', 'Behavior', 'Node', 'Day', 'Flag', 'Nbrs', 'Num_Nbrs',\n",
    "       'Nbrs_Dffsed', 'Num_Nbrs_Dffsd', 'high_nbrs', 'high_nbr_diff',\n",
    "       'Deg_Ctrlty', 'Probability', 'ratio', 'tcudorp', 'knar', 'knar_norm']"
   ]
  },
  {
   "cell_type": "code",
   "execution_count": 3,
   "metadata": {},
   "outputs": [
    {
     "name": "stderr",
     "output_type": "stream",
     "text": [
      "C:\\Users\\sumith.singh\\AppData\\Local\\Continuum\\Anaconda3\\lib\\site-packages\\pandas\\io\\parsers.py:709: UserWarning: Duplicate names specified. This will raise an error in the future.\n",
      "  return _read(filepath_or_buffer, kwds)\n",
      "C:\\Users\\sumith.singh\\AppData\\Local\\Continuum\\Anaconda3\\lib\\site-packages\\IPython\\core\\interactiveshell.py:2717: DtypeWarning: Columns (2) have mixed types. Specify dtype option on import or set low_memory=False.\n",
      "  interactivity=interactivity, compiler=compiler, result=result)\n"
     ]
    }
   ],
   "source": [
    "df = pd.read_csv('df2B_Diff_Algo2_SKA.csv',header=0, names = col_names)"
   ]
  },
  {
   "cell_type": "code",
   "execution_count": 4,
   "metadata": {},
   "outputs": [
    {
     "data": {
      "text/html": [
       "<div>\n",
       "<style scoped>\n",
       "    .dataframe tbody tr th:only-of-type {\n",
       "        vertical-align: middle;\n",
       "    }\n",
       "\n",
       "    .dataframe tbody tr th {\n",
       "        vertical-align: top;\n",
       "    }\n",
       "\n",
       "    .dataframe thead th {\n",
       "        text-align: right;\n",
       "    }\n",
       "</style>\n",
       "<table border=\"1\" class=\"dataframe\">\n",
       "  <thead>\n",
       "    <tr style=\"text-align: right;\">\n",
       "      <th></th>\n",
       "      <th>Node</th>\n",
       "      <th>Behavior</th>\n",
       "      <th>Node.1</th>\n",
       "      <th>Day</th>\n",
       "      <th>Flag</th>\n",
       "      <th>Nbrs</th>\n",
       "      <th>Num_Nbrs</th>\n",
       "      <th>Nbrs_Dffsed</th>\n",
       "      <th>Num_Nbrs_Dffsd</th>\n",
       "      <th>high_nbrs</th>\n",
       "      <th>high_nbr_diff</th>\n",
       "      <th>Deg_Ctrlty</th>\n",
       "      <th>Probability</th>\n",
       "      <th>ratio</th>\n",
       "      <th>tcudorp</th>\n",
       "      <th>knar</th>\n",
       "      <th>knar_norm</th>\n",
       "    </tr>\n",
       "  </thead>\n",
       "  <tbody>\n",
       "    <tr>\n",
       "      <th>250233</th>\n",
       "      <td>250233</td>\n",
       "      <td>B</td>\n",
       "      <td>254771691421</td>\n",
       "      <td>100</td>\n",
       "      <td>Not Diffused</td>\n",
       "      <td>['254771570640', '254770938395', '254772672995...</td>\n",
       "      <td>16</td>\n",
       "      <td>['254772375946', '254775936875']</td>\n",
       "      <td>2</td>\n",
       "      <td>['254775833142']</td>\n",
       "      <td>[]</td>\n",
       "      <td>1.321762e-05</td>\n",
       "      <td>0.818695</td>\n",
       "      <td>0.125</td>\n",
       "      <td>1.352650e-06</td>\n",
       "      <td>946734.0</td>\n",
       "      <td>0.978006</td>\n",
       "    </tr>\n",
       "    <tr>\n",
       "      <th>1158044</th>\n",
       "      <td>1158044</td>\n",
       "      <td>B</td>\n",
       "      <td>254771905856</td>\n",
       "      <td>100</td>\n",
       "      <td>Not Diffused</td>\n",
       "      <td>['254770893266']</td>\n",
       "      <td>1</td>\n",
       "      <td>[]</td>\n",
       "      <td>0</td>\n",
       "      <td>['254770893266']</td>\n",
       "      <td>[]</td>\n",
       "      <td>8.261015e-07</td>\n",
       "      <td>0.514391</td>\n",
       "      <td>0.000</td>\n",
       "      <td>0.000000e+00</td>\n",
       "      <td>369499.0</td>\n",
       "      <td>0.381704</td>\n",
       "    </tr>\n",
       "    <tr>\n",
       "      <th>824817</th>\n",
       "      <td>824817</td>\n",
       "      <td>B</td>\n",
       "      <td>254775440620</td>\n",
       "      <td>100</td>\n",
       "      <td>Not Diffused</td>\n",
       "      <td>['254771059721', '254771297010']</td>\n",
       "      <td>2</td>\n",
       "      <td>[]</td>\n",
       "      <td>0</td>\n",
       "      <td>['254771059721']</td>\n",
       "      <td>[]</td>\n",
       "      <td>1.652203e-06</td>\n",
       "      <td>0.765527</td>\n",
       "      <td>0.000</td>\n",
       "      <td>0.000000e+00</td>\n",
       "      <td>369499.0</td>\n",
       "      <td>0.381704</td>\n",
       "    </tr>\n",
       "    <tr>\n",
       "      <th>1132530</th>\n",
       "      <td>1132530</td>\n",
       "      <td>B</td>\n",
       "      <td>254773700925</td>\n",
       "      <td>1</td>\n",
       "      <td>Diffused</td>\n",
       "      <td>['254772845815']</td>\n",
       "      <td>1</td>\n",
       "      <td>[]</td>\n",
       "      <td>0</td>\n",
       "      <td>['254772845815']</td>\n",
       "      <td>[]</td>\n",
       "      <td>8.261015e-07</td>\n",
       "      <td>0.910197</td>\n",
       "      <td>0.000</td>\n",
       "      <td>0.000000e+00</td>\n",
       "      <td>NaN</td>\n",
       "      <td>NaN</td>\n",
       "    </tr>\n",
       "    <tr>\n",
       "      <th>465461</th>\n",
       "      <td>465461</td>\n",
       "      <td>B</td>\n",
       "      <td>254775935875</td>\n",
       "      <td>100</td>\n",
       "      <td>Resistant</td>\n",
       "      <td>['254776525308', '254772969881', '254776324583...</td>\n",
       "      <td>5</td>\n",
       "      <td>['254772969881']</td>\n",
       "      <td>1</td>\n",
       "      <td>['254777778888']</td>\n",
       "      <td>[]</td>\n",
       "      <td>4.130508e-06</td>\n",
       "      <td>0.033997</td>\n",
       "      <td>0.200</td>\n",
       "      <td>2.808510e-08</td>\n",
       "      <td>NaN</td>\n",
       "      <td>NaN</td>\n",
       "    </tr>\n",
       "  </tbody>\n",
       "</table>\n",
       "</div>"
      ],
      "text/plain": [
       "            Node Behavior        Node.1  Day          Flag  \\\n",
       "250233    250233        B  254771691421  100  Not Diffused   \n",
       "1158044  1158044        B  254771905856  100  Not Diffused   \n",
       "824817    824817        B  254775440620  100  Not Diffused   \n",
       "1132530  1132530        B  254773700925    1      Diffused   \n",
       "465461    465461        B  254775935875  100     Resistant   \n",
       "\n",
       "                                                      Nbrs  Num_Nbrs  \\\n",
       "250233   ['254771570640', '254770938395', '254772672995...        16   \n",
       "1158044                                   ['254770893266']         1   \n",
       "824817                    ['254771059721', '254771297010']         2   \n",
       "1132530                                   ['254772845815']         1   \n",
       "465461   ['254776525308', '254772969881', '254776324583...         5   \n",
       "\n",
       "                              Nbrs_Dffsed  Num_Nbrs_Dffsd         high_nbrs  \\\n",
       "250233   ['254772375946', '254775936875']               2  ['254775833142']   \n",
       "1158044                                []               0  ['254770893266']   \n",
       "824817                                 []               0  ['254771059721']   \n",
       "1132530                                []               0  ['254772845815']   \n",
       "465461                   ['254772969881']               1  ['254777778888']   \n",
       "\n",
       "        high_nbr_diff    Deg_Ctrlty  Probability  ratio       tcudorp  \\\n",
       "250233             []  1.321762e-05     0.818695  0.125  1.352650e-06   \n",
       "1158044            []  8.261015e-07     0.514391  0.000  0.000000e+00   \n",
       "824817             []  1.652203e-06     0.765527  0.000  0.000000e+00   \n",
       "1132530            []  8.261015e-07     0.910197  0.000  0.000000e+00   \n",
       "465461             []  4.130508e-06     0.033997  0.200  2.808510e-08   \n",
       "\n",
       "             knar  knar_norm  \n",
       "250233   946734.0   0.978006  \n",
       "1158044  369499.0   0.381704  \n",
       "824817   369499.0   0.381704  \n",
       "1132530       NaN        NaN  \n",
       "465461        NaN        NaN  "
      ]
     },
     "execution_count": 4,
     "metadata": {},
     "output_type": "execute_result"
    }
   ],
   "source": [
    "df.sample(5)"
   ]
  },
  {
   "cell_type": "code",
   "execution_count": 5,
   "metadata": {},
   "outputs": [
    {
     "data": {
      "text/plain": [
       "Index(['Node', 'Behavior', 'Node.1', 'Day', 'Flag', 'Nbrs', 'Num_Nbrs',\n",
       "       'Nbrs_Dffsed', 'Num_Nbrs_Dffsd', 'high_nbrs', 'high_nbr_diff',\n",
       "       'Deg_Ctrlty', 'Probability', 'ratio', 'tcudorp', 'knar', 'knar_norm'],\n",
       "      dtype='object')"
      ]
     },
     "execution_count": 5,
     "metadata": {},
     "output_type": "execute_result"
    }
   ],
   "source": [
    "df.columns"
   ]
  },
  {
   "cell_type": "code",
   "execution_count": 6,
   "metadata": {},
   "outputs": [
    {
     "data": {
      "text/plain": [
       "Counter({'Diffused': 121498, 'Not Diffused': 968025, 'Resistant': 120983})"
      ]
     },
     "execution_count": 6,
     "metadata": {},
     "output_type": "execute_result"
    }
   ],
   "source": [
    "from collections import Counter\n",
    "Counter(df['Flag'])"
   ]
  },
  {
   "cell_type": "code",
   "execution_count": 7,
   "metadata": {},
   "outputs": [
    {
     "data": {
      "text/plain": [
       "Node                int64\n",
       "Behavior           object\n",
       "Node.1             object\n",
       "Day                 int64\n",
       "Flag               object\n",
       "Nbrs               object\n",
       "Num_Nbrs            int64\n",
       "Nbrs_Dffsed        object\n",
       "Num_Nbrs_Dffsd      int64\n",
       "high_nbrs          object\n",
       "high_nbr_diff      object\n",
       "Deg_Ctrlty        float64\n",
       "Probability       float64\n",
       "ratio             float64\n",
       "tcudorp           float64\n",
       "knar              float64\n",
       "knar_norm         float64\n",
       "dtype: object"
      ]
     },
     "execution_count": 7,
     "metadata": {},
     "output_type": "execute_result"
    }
   ],
   "source": [
    "df.dtypes"
   ]
  },
  {
   "cell_type": "code",
   "execution_count": 25,
   "metadata": {},
   "outputs": [
    {
     "data": {
      "text/html": [
       "<div>\n",
       "<style scoped>\n",
       "    .dataframe tbody tr th:only-of-type {\n",
       "        vertical-align: middle;\n",
       "    }\n",
       "\n",
       "    .dataframe tbody tr th {\n",
       "        vertical-align: top;\n",
       "    }\n",
       "\n",
       "    .dataframe thead th {\n",
       "        text-align: right;\n",
       "    }\n",
       "</style>\n",
       "<table border=\"1\" class=\"dataframe\">\n",
       "  <thead>\n",
       "    <tr style=\"text-align: right;\">\n",
       "      <th></th>\n",
       "      <th>Day</th>\n",
       "      <th>Num_Nbrs</th>\n",
       "      <th>Num_Nbrs_Dffsd</th>\n",
       "      <th>Deg_Ctrlty</th>\n",
       "      <th>ratio</th>\n",
       "      <th>tcudorp</th>\n",
       "    </tr>\n",
       "  </thead>\n",
       "  <tbody>\n",
       "    <tr>\n",
       "      <th>798537</th>\n",
       "      <td>100</td>\n",
       "      <td>3</td>\n",
       "      <td>1</td>\n",
       "      <td>2.478305e-06</td>\n",
       "      <td>0.333333</td>\n",
       "      <td>2.861331e-07</td>\n",
       "    </tr>\n",
       "    <tr>\n",
       "      <th>250950</th>\n",
       "      <td>100</td>\n",
       "      <td>1</td>\n",
       "      <td>0</td>\n",
       "      <td>8.261015e-07</td>\n",
       "      <td>0.000000</td>\n",
       "      <td>0.000000e+00</td>\n",
       "    </tr>\n",
       "    <tr>\n",
       "      <th>411675</th>\n",
       "      <td>100</td>\n",
       "      <td>2</td>\n",
       "      <td>1</td>\n",
       "      <td>1.652203e-06</td>\n",
       "      <td>0.500000</td>\n",
       "      <td>6.234962e-08</td>\n",
       "    </tr>\n",
       "    <tr>\n",
       "      <th>1061584</th>\n",
       "      <td>100</td>\n",
       "      <td>3</td>\n",
       "      <td>0</td>\n",
       "      <td>2.478305e-06</td>\n",
       "      <td>0.000000</td>\n",
       "      <td>0.000000e+00</td>\n",
       "    </tr>\n",
       "    <tr>\n",
       "      <th>297072</th>\n",
       "      <td>100</td>\n",
       "      <td>2</td>\n",
       "      <td>1</td>\n",
       "      <td>1.652203e-06</td>\n",
       "      <td>0.500000</td>\n",
       "      <td>2.326830e-07</td>\n",
       "    </tr>\n",
       "  </tbody>\n",
       "</table>\n",
       "</div>"
      ],
      "text/plain": [
       "         Day  Num_Nbrs  Num_Nbrs_Dffsd    Deg_Ctrlty     ratio       tcudorp\n",
       "798537   100         3               1  2.478305e-06  0.333333  2.861331e-07\n",
       "250950   100         1               0  8.261015e-07  0.000000  0.000000e+00\n",
       "411675   100         2               1  1.652203e-06  0.500000  6.234962e-08\n",
       "1061584  100         3               0  2.478305e-06  0.000000  0.000000e+00\n",
       "297072   100         2               1  1.652203e-06  0.500000  2.326830e-07"
      ]
     },
     "execution_count": 25,
     "metadata": {},
     "output_type": "execute_result"
    }
   ],
   "source": [
    "dfLinR = df[['Day','Num_Nbrs','Num_Nbrs_Dffsd','Deg_Ctrlty','ratio','tcudorp']].copy()\n",
    "dfLinR.sample(5)"
   ]
  },
  {
   "cell_type": "code",
   "execution_count": 26,
   "metadata": {
    "scrolled": true
   },
   "outputs": [
    {
     "data": {
      "text/plain": [
       "Index(['Day', 'Num_Nbrs', 'Num_Nbrs_Dffsd', 'Deg_Ctrlty', 'ratio', 'tcudorp'], dtype='object')"
      ]
     },
     "execution_count": 26,
     "metadata": {},
     "output_type": "execute_result"
    }
   ],
   "source": [
    "dfLinR.columns"
   ]
  },
  {
   "cell_type": "code",
   "execution_count": 27,
   "metadata": {},
   "outputs": [
    {
     "data": {
      "text/plain": [
       "Day                 int64\n",
       "Num_Nbrs            int64\n",
       "Num_Nbrs_Dffsd      int64\n",
       "Deg_Ctrlty        float64\n",
       "ratio             float64\n",
       "tcudorp           float64\n",
       "dtype: object"
      ]
     },
     "execution_count": 27,
     "metadata": {},
     "output_type": "execute_result"
    }
   ],
   "source": [
    "dfLinR.dtypes"
   ]
  },
  {
   "cell_type": "code",
   "execution_count": 28,
   "metadata": {},
   "outputs": [
    {
     "data": {
      "text/plain": [
       "<seaborn.axisgrid.PairGrid at 0x28603ee7390>"
      ]
     },
     "execution_count": 28,
     "metadata": {},
     "output_type": "execute_result"
    }
   ],
   "source": [
    "sns.pairplot(dfLinR)"
   ]
  },
  {
   "cell_type": "code",
   "execution_count": 29,
   "metadata": {},
   "outputs": [
    {
     "data": {
      "image/png": "[encoded data removed]",
      "text/plain": [
       "<matplotlib.figure.Figure at 0x28603be61d0>"
      ]
     },
     "metadata": {},
     "output_type": "display_data"
    },
    {
     "data": {
      "image/png": "[encoded data removed]",
      "text/plain": [
       "<matplotlib.figure.Figure at 0x28603ee7208>"
      ]
     },
     "metadata": {},
     "output_type": "display_data"
    }
   ],
   "source": [
    "plt.show()"
   ]
  },
  {
   "cell_type": "code",
   "execution_count": 12,
   "metadata": {
    "collapsed": true
   },
   "outputs": [],
   "source": [
    "#Assign feature columns as list:feature_cols\n",
    "feature_cols = ['Num_Nbrs','Num_Nbrs_Dffsd','Deg_Ctrlty','ratio','tcudorp']\n",
    "\n",
    "# Assign to X  a subset of the data including only feature names\n",
    "X = dfLinR[feature_cols]"
   ]
  },
  {
   "cell_type": "code",
   "execution_count": 13,
   "metadata": {
    "collapsed": true
   },
   "outputs": [],
   "source": [
    "#Assign to y the response variable as Pandas series\n",
    "y = dfLinR['Day']"
   ]
  },
  {
   "cell_type": "code",
   "execution_count": 14,
   "metadata": {},
   "outputs": [
    {
     "data": {
      "text/html": [
       "<div>\n",
       "<style scoped>\n",
       "    .dataframe tbody tr th:only-of-type {\n",
       "        vertical-align: middle;\n",
       "    }\n",
       "\n",
       "    .dataframe tbody tr th {\n",
       "        vertical-align: top;\n",
       "    }\n",
       "\n",
       "    .dataframe thead th {\n",
       "        text-align: right;\n",
       "    }\n",
       "</style>\n",
       "<table border=\"1\" class=\"dataframe\">\n",
       "  <thead>\n",
       "    <tr style=\"text-align: right;\">\n",
       "      <th></th>\n",
       "      <th>Num_Nbrs</th>\n",
       "      <th>Num_Nbrs_Dffsd</th>\n",
       "      <th>Deg_Ctrlty</th>\n",
       "      <th>ratio</th>\n",
       "      <th>tcudorp</th>\n",
       "    </tr>\n",
       "  </thead>\n",
       "  <tbody>\n",
       "    <tr>\n",
       "      <th>11465</th>\n",
       "      <td>18</td>\n",
       "      <td>4</td>\n",
       "      <td>1.486983e-05</td>\n",
       "      <td>0.222222</td>\n",
       "      <td>0.000001</td>\n",
       "    </tr>\n",
       "    <tr>\n",
       "      <th>247505</th>\n",
       "      <td>4</td>\n",
       "      <td>0</td>\n",
       "      <td>3.304406e-06</td>\n",
       "      <td>0.000000</td>\n",
       "      <td>0.000000</td>\n",
       "    </tr>\n",
       "    <tr>\n",
       "      <th>522696</th>\n",
       "      <td>1</td>\n",
       "      <td>0</td>\n",
       "      <td>8.261015e-07</td>\n",
       "      <td>0.000000</td>\n",
       "      <td>0.000000</td>\n",
       "    </tr>\n",
       "    <tr>\n",
       "      <th>1034935</th>\n",
       "      <td>1</td>\n",
       "      <td>0</td>\n",
       "      <td>8.261015e-07</td>\n",
       "      <td>0.000000</td>\n",
       "      <td>0.000000</td>\n",
       "    </tr>\n",
       "    <tr>\n",
       "      <th>1010598</th>\n",
       "      <td>1</td>\n",
       "      <td>0</td>\n",
       "      <td>8.261015e-07</td>\n",
       "      <td>0.000000</td>\n",
       "      <td>0.000000</td>\n",
       "    </tr>\n",
       "  </tbody>\n",
       "</table>\n",
       "</div>"
      ],
      "text/plain": [
       "         Num_Nbrs  Num_Nbrs_Dffsd    Deg_Ctrlty     ratio   tcudorp\n",
       "11465          18               4  1.486983e-05  0.222222  0.000001\n",
       "247505          4               0  3.304406e-06  0.000000  0.000000\n",
       "522696          1               0  8.261015e-07  0.000000  0.000000\n",
       "1034935         1               0  8.261015e-07  0.000000  0.000000\n",
       "1010598         1               0  8.261015e-07  0.000000  0.000000"
      ]
     },
     "execution_count": 14,
     "metadata": {},
     "output_type": "execute_result"
    }
   ],
   "source": [
    "X.sample(5)"
   ]
  },
  {
   "cell_type": "code",
   "execution_count": 17,
   "metadata": {},
   "outputs": [
    {
     "data": {
      "text/plain": [
       "1"
      ]
     },
     "execution_count": 17,
     "metadata": {},
     "output_type": "execute_result"
    }
   ],
   "source": [
    "y[10]"
   ]
  },
  {
   "cell_type": "code",
   "execution_count": 30,
   "metadata": {},
   "outputs": [
    {
     "name": "stderr",
     "output_type": "stream",
     "text": [
      "C:\\Users\\sumith.singh\\AppData\\Local\\Continuum\\Anaconda3\\lib\\site-packages\\sklearn\\cross_validation.py:44: DeprecationWarning: This module was deprecated in version 0.18 in favor of the model_selection module into which all the refactored classes and functions are moved. Also note that the interface of the new CV iterators are different from that of this module. This module will be removed in 0.20.\n",
      "  \"This module will be removed in 0.20.\", DeprecationWarning)\n"
     ]
    }
   ],
   "source": [
    "# Import SK Learn train test split\n",
    "from sklearn.cross_validation import train_test_split\n",
    "# Assign variables to capture train test split output \n",
    "X_train, X_test, y_train, y_test = train_test_split(X,y)"
   ]
  },
  {
   "cell_type": "code",
   "execution_count": 31,
   "metadata": {},
   "outputs": [
    {
     "data": {
      "text/plain": [
       "LinearRegression(copy_X=True, fit_intercept=True, n_jobs=1, normalize=False)"
      ]
     },
     "execution_count": 31,
     "metadata": {},
     "output_type": "execute_result"
    }
   ],
   "source": [
    "# Import SK Lean Linear Regression\n",
    "from sklearn.linear_model import LinearRegression\n",
    "\n",
    "# Instantiate\n",
    "linreg = LinearRegression()\n",
    "\n",
    "# Fit model to trai data i.e. Learn Coefficients\n",
    "linreg.fit(X_train, y_train)"
   ]
  },
  {
   "cell_type": "code",
   "execution_count": 32,
   "metadata": {},
   "outputs": [
    {
     "name": "stdout",
     "output_type": "stream",
     "text": [
      "90.40146874521179\n",
      "[-1.59378230e+00  5.94125594e+00  1.81795486e+06 -4.24670365e-01\n",
      " -1.35366907e+07]\n"
     ]
    },
    {
     "data": {
      "text/plain": [
       "<zip at 0x2862a201d48>"
      ]
     },
     "execution_count": 32,
     "metadata": {},
     "output_type": "execute_result"
    }
   ],
   "source": [
    "# Prints y-intercept\n",
    "print(linreg.intercept_)\n",
    "\n",
    "# Prints the beta coefficient in the same order as passed\n",
    "print(linreg.coef_)\n",
    "\n",
    "# Zip and pair feature names and coefficients together\n",
    "zip(feature_cols, linreg.coef_)"
   ]
  },
  {
   "cell_type": "code",
   "execution_count": 33,
   "metadata": {
    "collapsed": true
   },
   "outputs": [],
   "source": [
    "y_pred = linreg.predict(X_test)"
   ]
  },
  {
   "cell_type": "code",
   "execution_count": 35,
   "metadata": {},
   "outputs": [
    {
     "name": "stdout",
     "output_type": "stream",
     "text": [
      "17.577579204612096\n",
      "991.966386425372\n",
      "31.495497875495982\n"
     ]
    }
   ],
   "source": [
    "# Import metrics library\n",
    "from sklearn import metrics\n",
    "\n",
    "#Print result of MAE\n",
    "print(metrics.mean_absolute_error(y_test,y_pred))\n",
    "\n",
    "#Print result for MSE\n",
    "print(metrics.mean_squared_error(y_test,y_pred))\n",
    "\n",
    "#Print result for RMSE\n",
    "print(np.sqrt(metrics.mean_squared_error(y_test,y_pred)))"
   ]
  },
  {
   "cell_type": "code",
   "execution_count": null,
   "metadata": {
    "collapsed": true
   },
   "outputs": [],
   "source": []
  },
  {
   "cell_type": "code",
   "execution_count": null,
   "metadata": {
    "collapsed": true
   },
   "outputs": [],
   "source": []
  },
  {
   "cell_type": "code",
   "execution_count": null,
   "metadata": {
    "collapsed": true
   },
   "outputs": [],
   "source": []
  },
  {
   "cell_type": "code",
   "execution_count": null,
   "metadata": {
    "collapsed": true
   },
   "outputs": [],
   "source": []
  }
 ],
 "metadata": {
  "kernelspec": {
   "display_name": "Python 3",
   "language": "python",
   "name": "python3"
  },
  "language_info": {
   "codemirror_mode": {
    "name": "ipython",
    "version": 3
   },
   "file_extension": ".py",
   "mimetype": "text/x-python",
   "name": "python",
   "nbconvert_exporter": "python",
   "pygments_lexer": "ipython3",
   "version": "3.6.1"
  }
 },
 "nbformat": 4,
 "nbformat_minor": 2
}
